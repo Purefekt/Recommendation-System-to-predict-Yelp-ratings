{
 "cells": [
  {
   "cell_type": "code",
   "execution_count": 1,
   "id": "68d2fa00",
   "metadata": {},
   "outputs": [],
   "source": [
    "from pyspark.context import SparkContext\n",
    "import json\n",
    "from datetime import datetime\n",
    "import pytz"
   ]
  },
  {
   "cell_type": "code",
   "execution_count": 2,
   "id": "33a76c02",
   "metadata": {},
   "outputs": [],
   "source": [
    "sc = SparkContext()\n",
    "sc.setLogLevel('ERROR')"
   ]
  },
  {
   "cell_type": "code",
   "execution_count": 3,
   "id": "0a7455a0",
   "metadata": {},
   "outputs": [],
   "source": [
    "FOLDER_PATH = '/Users/veersingh/Desktop/competition_files/'\n",
    "TRAIN_FILE_PATH = FOLDER_PATH + 'yelp_train.csv'\n",
    "\n",
    "BUSINESS_FILE_PATH = FOLDER_PATH + 'business.json'\n",
    "CHECKIN_FILE_PATH = FOLDER_PATH + 'checkin.json'\n",
    "PHOTO_FILE_PATH = FOLDER_PATH + 'photo.json'\n",
    "TIP_FILE_PATH = FOLDER_PATH + 'tip.json'\n",
    "USER_FILE_PATH = FOLDER_PATH + 'user.json'\n",
    "\n",
    "TESTING_FILE_PATH = '/Users/veersingh/Desktop/competition_files/yelp_val.csv'\n",
    "OUTPUT_FILE_PATH = '/Users/veersingh/Desktop/Recommendation-System-to-predict-Yelp-ratings/output.csv'"
   ]
  },
  {
   "cell_type": "code",
   "execution_count": 4,
   "id": "7a77bc7e",
   "metadata": {},
   "outputs": [],
   "source": [
    "# Read in the training dataset. Remove the header and convert a csv string into a list of 3 elements\n",
    "# [user_id, business_id, rating(float type)]\n",
    "train_RDD = sc.textFile(TRAIN_FILE_PATH)\n",
    "headers_train = train_RDD.first()\n",
    "train_RDD = train_RDD.filter(lambda x:x!=headers_train).map(lambda x:x.split(',')).map(lambda x:[x[0], x[1], float(x[2])])"
   ]
  },
  {
   "cell_type": "code",
   "execution_count": 5,
   "id": "a4c5375b",
   "metadata": {},
   "outputs": [],
   "source": [
    "def get_latitude(latitude_value):\n",
    "    if not latitude_value:\n",
    "        return 0\n",
    "    return latitude_value\n",
    "\n",
    "def get_longitude(longitude_value):\n",
    "    if not longitude_value:\n",
    "        return 0\n",
    "    return longitude_value\n",
    "\n",
    "def get_num_attributes(attributes_dict):\n",
    "    if not attributes_dict:\n",
    "        return 0\n",
    "    return len(attributes_dict)\n",
    "\n",
    "def get_rate_true_attributes(attributes_dict):\n",
    "    if not attributes_dict:\n",
    "        return 0\n",
    "    num_total = 0\n",
    "    num_true = 0\n",
    "    for k,v in attributes_dict.items():\n",
    "        if v in ('True', 'False'):\n",
    "            num_total += 1\n",
    "            if v == 'True':\n",
    "                num_true += 1\n",
    "    if num_total == 0:\n",
    "        return 0\n",
    "    return num_true/num_total\n",
    "            \n",
    "\n",
    "def get_num_categories(categories):\n",
    "    if not categories:\n",
    "        return 0\n",
    "    categories = categories.split(',')\n",
    "    return len(categories)"
   ]
  },
  {
   "cell_type": "code",
   "execution_count": 6,
   "id": "db4e0bfc",
   "metadata": {},
   "outputs": [],
   "source": [
    "# Get the following features for each business: id, latitude, longitude, stars, review_count, if its open or closed, rate of true attributes i.e. num true attributes/total attributes and number of categories\n",
    "business_RDD = sc.textFile(BUSINESS_FILE_PATH).map(lambda x: json.loads(x)).map(lambda x: (x['business_id'],\n",
    "                                                                                              [float(get_latitude(x['latitude'])),\n",
    "                                                                                              float(get_longitude(x['longitude'])),\n",
    "                                                                                              float(x['stars']),\n",
    "                                                                                              int(x['review_count']),\n",
    "                                                                                              int(x['is_open']),\n",
    "                                                                                              get_rate_true_attributes(x['attributes']),\n",
    "                                                                                              get_num_categories(x['categories'])]\n",
    "                                                                                          ))"
   ]
  },
  {
   "cell_type": "code",
   "execution_count": 7,
   "id": "243436a6",
   "metadata": {},
   "outputs": [],
   "source": [
    "def get_num_checkins(checkin_data):\n",
    "    return sum(checkin_data.values())"
   ]
  },
  {
   "cell_type": "code",
   "execution_count": 8,
   "id": "69b20395",
   "metadata": {},
   "outputs": [],
   "source": [
    "# Get the total number of check ins for a business\n",
    "checkIn_RDD = sc.textFile(CHECKIN_FILE_PATH).map(lambda x: json.loads(x)).map(lambda x: (x['business_id'], get_num_checkins(x['time']))).map(lambda x: (x[0], [x[1]]))\n"
   ]
  },
  {
   "cell_type": "code",
   "execution_count": 9,
   "id": "7d7737e0",
   "metadata": {},
   "outputs": [],
   "source": [
    "# Get the total number of photos for a business\n",
    "photo_RDD = sc.textFile(PHOTO_FILE_PATH).map(lambda x: json.loads(x)).map(lambda x: (x['business_id'], 1)).reduceByKey(lambda x,y: x+y).map(lambda x: (x[0], [x[1]]))\n",
    "\n"
   ]
  },
  {
   "cell_type": "code",
   "execution_count": 10,
   "id": "fa92e4f4",
   "metadata": {},
   "outputs": [],
   "source": [
    "# Get the total number of tips given by a user and the total number of tips for each business\n",
    "tip_RDD = sc.textFile(TIP_FILE_PATH).map(lambda x: json.loads(x))\n",
    "\n",
    "tips_business_RDD = tip_RDD.map(lambda x: (x['business_id'], 1)).reduceByKey(lambda x,y: x+y).map(lambda x: (x[0], [x[1]]))\n",
    "tips_user_RDD = tip_RDD.map(lambda x: (x['user_id'], 1)).reduceByKey(lambda x,y: x+y).map(lambda x: (x[0], [x[1]]))\n",
    "\n"
   ]
  },
  {
   "cell_type": "code",
   "execution_count": 11,
   "id": "4450cd56",
   "metadata": {},
   "outputs": [],
   "source": [
    "def get_yelping_since(yelping_since):\n",
    "    date_obj = datetime.strptime(yelping_since, '%Y-%m-%d')\n",
    "    utc_date = pytz.utc.localize(date_obj)\n",
    "    return int(utc_date.timestamp())\n",
    "\n",
    "def get_num_friends(friends):\n",
    "    if friends == 'None':\n",
    "        return 0\n",
    "    friends = friends.split(',')\n",
    "    return len(friends)\n",
    "\n",
    "def get_num_elites(elite):\n",
    "    if elite == 'None':\n",
    "        return 0\n",
    "    elite = elite.split(',')\n",
    "    return len(elite)"
   ]
  },
  {
   "cell_type": "code",
   "execution_count": 12,
   "id": "40316497",
   "metadata": {},
   "outputs": [],
   "source": [
    "# Get the features for each user\n",
    "user_RDD = sc.textFile(USER_FILE_PATH).map(lambda x: json.loads(x)).map(lambda x: (x['user_id'],\n",
    "                                                                               [\n",
    "                                                                                   int(x['review_count']),\n",
    "                                                                                   get_yelping_since(x['yelping_since']),\n",
    "                                                                                   get_num_friends(x['friends']),\n",
    "                                                                                   int(x['useful']),\n",
    "                                                                                   int(x['funny']),\n",
    "                                                                                   int(x['cool']),\n",
    "                                                                                   int(x['fans']),\n",
    "                                                                                   get_num_elites(x['elite']),\n",
    "                                                                                   float(x['average_stars']),\n",
    "                                                                                   int(x['compliment_hot']),\n",
    "                                                                                   int(x['compliment_more']),\n",
    "                                                                                   int(x['compliment_profile']),\n",
    "                                                                                   int(x['compliment_cute']),\n",
    "                                                                                   int(x['compliment_list']),\n",
    "                                                                                   int(x['compliment_note']),\n",
    "                                                                                   int(x['compliment_plain']),\n",
    "                                                                                   int(x['compliment_cool']),\n",
    "                                                                                   int(x['compliment_funny']),\n",
    "                                                                                   int(x['compliment_writer']),\n",
    "                                                                                   int(x['compliment_photos'])\n",
    "                                                                               ]))"
   ]
  },
  {
   "cell_type": "code",
   "execution_count": 84,
   "id": "9e8e00f2",
   "metadata": {},
   "outputs": [],
   "source": [
    "# Combine the follow RDDs to create a vector for each business with business id as key and list of features as value\n",
    "# business_RDD + checkIn_RDD + photo_RDD + tips_business_RDD\n",
    "# make sure to fix NoneType error when combining lists since some values are None"
   ]
  },
  {
   "cell_type": "code",
   "execution_count": 79,
   "id": "ba219013",
   "metadata": {},
   "outputs": [],
   "source": [
    "def combine_lists(data_row):\n",
    "    # fix nonetype error\n",
    "    if data_row[1][1] == None:\n",
    "        return[data_row[0], data_row[1][0] + [0]]\n",
    "    return [data_row[0], data_row[1][0] + data_row[1][1]]"
   ]
  },
  {
   "cell_type": "code",
   "execution_count": 80,
   "id": "279b1711",
   "metadata": {},
   "outputs": [],
   "source": [
    "business_features_RDD = business_RDD.leftOuterJoin(checkIn_RDD).map(lambda x: combine_lists(x)).leftOuterJoin(photo_RDD).map(lambda x: combine_lists(x)).leftOuterJoin(tips_business_RDD).map(lambda x: combine_lists(x))\n",
    "\n",
    "\n"
   ]
  },
  {
   "cell_type": "code",
   "execution_count": null,
   "id": "f4c240db",
   "metadata": {},
   "outputs": [],
   "source": []
  }
 ],
 "metadata": {
  "kernelspec": {
   "display_name": "Python 3",
   "language": "python",
   "name": "python3"
  },
  "language_info": {
   "codemirror_mode": {
    "name": "ipython",
    "version": 3
   },
   "file_extension": ".py",
   "mimetype": "text/x-python",
   "name": "python",
   "nbconvert_exporter": "python",
   "pygments_lexer": "ipython3",
   "version": "3.6.13"
  }
 },
 "nbformat": 4,
 "nbformat_minor": 5
}
