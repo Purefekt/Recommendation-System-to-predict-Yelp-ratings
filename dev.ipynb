{
 "cells": [
  {
   "cell_type": "code",
   "execution_count": 1,
   "id": "68d2fa00",
   "metadata": {},
   "outputs": [],
   "source": [
    "from pyspark.context import SparkContext\n",
    "import json\n",
    "from datetime import datetime\n",
    "import pytz"
   ]
  },
  {
   "cell_type": "code",
   "execution_count": 2,
   "id": "33a76c02",
   "metadata": {},
   "outputs": [],
   "source": [
    "sc = SparkContext()\n",
    "sc.setLogLevel('ERROR')"
   ]
  },
  {
   "cell_type": "code",
   "execution_count": 3,
   "id": "0a7455a0",
   "metadata": {},
   "outputs": [],
   "source": [
    "FOLDER_PATH = '/Users/veersingh/Desktop/competition_files/'\n",
    "TRAIN_FILE_PATH = FOLDER_PATH + 'yelp_train.csv'\n",
    "\n",
    "BUSINESS_FILE_PATH = FOLDER_PATH + 'business.json'\n",
    "CHECKIN_FILE_PATH = FOLDER_PATH + 'checkin.json'\n",
    "PHOTO_FILE_PATH = FOLDER_PATH + 'photo.json'\n",
    "TIP_FILE_PATH = FOLDER_PATH + 'tip.json'\n",
    "USER_FILE_PATH = FOLDER_PATH + 'user.json'\n",
    "\n",
    "TESTING_FILE_PATH = '/Users/veersingh/Desktop/competition_files/yelp_val.csv'\n",
    "OUTPUT_FILE_PATH = '/Users/veersingh/Desktop/Recommendation-System-to-predict-Yelp-ratings/output.csv'"
   ]
  },
  {
   "cell_type": "code",
   "execution_count": 4,
   "id": "7a77bc7e",
   "metadata": {},
   "outputs": [],
   "source": [
    "# Read in the training dataset. Remove the header and convert a csv string into a list of 3 elements\n",
    "# [user_id, business_id, rating(float type)]\n",
    "train_RDD = sc.textFile(TRAIN_FILE_PATH)\n",
    "headers_train = train_RDD.first()\n",
    "train_RDD = train_RDD.filter(lambda x:x!=headers_train).map(lambda x:x.split(',')).map(lambda x:[x[0], x[1], float(x[2])])"
   ]
  },
  {
   "cell_type": "code",
   "execution_count": 5,
   "id": "a4c5375b",
   "metadata": {},
   "outputs": [],
   "source": [
    "def get_latitude(latitude_value):\n",
    "    if not latitude_value:\n",
    "        return 0\n",
    "    return latitude_value\n",
    "\n",
    "def get_longitude(longitude_value):\n",
    "    if not longitude_value:\n",
    "        return 0\n",
    "    return longitude_value\n",
    "\n",
    "def get_num_attributes(attributes_dict):\n",
    "    if not attributes_dict:\n",
    "        return 0\n",
    "    return len(attributes_dict)\n",
    "\n",
    "def get_rate_true_attributes(attributes_dict):\n",
    "    if not attributes_dict:\n",
    "        return 0\n",
    "    num_total = 0\n",
    "    num_true = 0\n",
    "    for k,v in attributes_dict.items():\n",
    "        if v in ('True', 'False'):\n",
    "            num_total += 1\n",
    "            if v == 'True':\n",
    "                num_true += 1\n",
    "    if num_total == 0:\n",
    "        return 0\n",
    "    return num_true/num_total\n",
    "            \n",
    "\n",
    "def get_num_categories(categories):\n",
    "    if not categories:\n",
    "        return 0\n",
    "    categories = categories.split(',')\n",
    "    return len(categories)"
   ]
  },
  {
   "cell_type": "code",
   "execution_count": 6,
   "id": "db4e0bfc",
   "metadata": {},
   "outputs": [],
   "source": [
    "# Get the following features for each business: id, latitude, longitude, stars, review_count, if its open or closed, rate of true attributes i.e. num true attributes/total attributes and number of categories\n",
    "business_RDD = sc.textFile(BUSINESS_FILE_PATH).map(lambda x: json.loads(x)).map(lambda x: (x['business_id'],\n",
    "                                                                                              [float(get_latitude(x['latitude'])),\n",
    "                                                                                              float(get_longitude(x['longitude'])),\n",
    "                                                                                              float(x['stars']),\n",
    "                                                                                              int(x['review_count']),\n",
    "                                                                                              int(x['is_open']),\n",
    "                                                                                              get_rate_true_attributes(x['attributes']),\n",
    "                                                                                              get_num_categories(x['categories'])]\n",
    "                                                                                          ))"
   ]
  },
  {
   "cell_type": "code",
   "execution_count": 7,
   "id": "243436a6",
   "metadata": {},
   "outputs": [],
   "source": [
    "def get_num_checkins(checkin_data):\n",
    "    return sum(checkin_data.values())"
   ]
  },
  {
   "cell_type": "code",
   "execution_count": 8,
   "id": "69b20395",
   "metadata": {},
   "outputs": [],
   "source": [
    "# Get the total number of check ins for a business\n",
    "checkIn_RDD = sc.textFile(CHECKIN_FILE_PATH).map(lambda x: json.loads(x)).map(lambda x: (x['business_id'], get_num_checkins(x['time']))).map(lambda x: (x[0], [x[1]]))\n"
   ]
  },
  {
   "cell_type": "code",
   "execution_count": 9,
   "id": "7d7737e0",
   "metadata": {},
   "outputs": [],
   "source": [
    "# Get the total number of photos for a business\n",
    "photo_RDD = sc.textFile(PHOTO_FILE_PATH).map(lambda x: json.loads(x)).map(lambda x: (x['business_id'], 1)).reduceByKey(lambda x,y: x+y).map(lambda x: (x[0], [x[1]]))\n",
    "\n"
   ]
  },
  {
   "cell_type": "code",
   "execution_count": 10,
   "id": "fa92e4f4",
   "metadata": {},
   "outputs": [],
   "source": [
    "# Get the total number of tips given by a user and the total number of tips for each business\n",
    "tip_RDD = sc.textFile(TIP_FILE_PATH).map(lambda x: json.loads(x))\n",
    "\n",
    "tips_business_RDD = tip_RDD.map(lambda x: (x['business_id'], 1)).reduceByKey(lambda x,y: x+y).map(lambda x: (x[0], [x[1]]))\n",
    "tips_user_RDD = tip_RDD.map(lambda x: (x['user_id'], 1)).reduceByKey(lambda x,y: x+y).map(lambda x: (x[0], [x[1]]))\n",
    "\n"
   ]
  },
  {
   "cell_type": "code",
   "execution_count": 11,
   "id": "4450cd56",
   "metadata": {},
   "outputs": [],
   "source": [
    "def get_yelping_since(yelping_since):\n",
    "    date_obj = datetime.strptime(yelping_since, '%Y-%m-%d')\n",
    "    utc_date = pytz.utc.localize(date_obj)\n",
    "    return int(utc_date.timestamp())\n",
    "\n",
    "def get_num_friends(friends):\n",
    "    if friends == 'None':\n",
    "        return 0\n",
    "    friends = friends.split(',')\n",
    "    return len(friends)\n",
    "\n",
    "def get_num_elites(elite):\n",
    "    if elite == 'None':\n",
    "        return 0\n",
    "    elite = elite.split(',')\n",
    "    return len(elite)"
   ]
  },
  {
   "cell_type": "code",
   "execution_count": 12,
   "id": "40316497",
   "metadata": {},
   "outputs": [],
   "source": [
    "# Get the features for each user\n",
    "user_RDD = sc.textFile(USER_FILE_PATH).map(lambda x: json.loads(x)).map(lambda x: (x['user_id'],\n",
    "                                                                               [\n",
    "                                                                                   int(x['review_count']),\n",
    "                                                                                   get_yelping_since(x['yelping_since']),\n",
    "                                                                                   get_num_friends(x['friends']),\n",
    "                                                                                   int(x['useful']),\n",
    "                                                                                   int(x['funny']),\n",
    "                                                                                   int(x['cool']),\n",
    "                                                                                   int(x['fans']),\n",
    "                                                                                   get_num_elites(x['elite']),\n",
    "                                                                                   float(x['average_stars']),\n",
    "                                                                                   int(x['compliment_hot']),\n",
    "                                                                                   int(x['compliment_more']),\n",
    "                                                                                   int(x['compliment_profile']),\n",
    "                                                                                   int(x['compliment_cute']),\n",
    "                                                                                   int(x['compliment_list']),\n",
    "                                                                                   int(x['compliment_note']),\n",
    "                                                                                   int(x['compliment_plain']),\n",
    "                                                                                   int(x['compliment_cool']),\n",
    "                                                                                   int(x['compliment_funny']),\n",
    "                                                                                   int(x['compliment_writer']),\n",
    "                                                                                   int(x['compliment_photos'])\n",
    "                                                                               ]))"
   ]
  },
  {
   "cell_type": "code",
   "execution_count": 64,
   "id": "bdf64235",
   "metadata": {},
   "outputs": [],
   "source": [
    "def combine_lists(data_row):\n",
    "    # fix nonetype error\n",
    "    if data_row[1][1] == None:\n",
    "        return[data_row[0], data_row[1][0] + [0]]\n",
    "    if type(data_row[1][0]) == str:\n",
    "        return [data_row[0], [data_row[1][0]] + data_row[1][1]]\n",
    "    return [data_row[0], data_row[1][0] + data_row[1][1]]"
   ]
  },
  {
   "cell_type": "code",
   "execution_count": 14,
   "id": "418a29d3",
   "metadata": {},
   "outputs": [],
   "source": [
    "# Combine the following RDDs to create a vector for each business with business id as key and list of features as value\n",
    "# business_RDD + checkIn_RDD + photo_RDD + tips_business_RDD\n",
    "# make sure to fix NoneType error when combining lists since some values are None\n",
    "\n",
    "business_features_RDD = business_RDD.leftOuterJoin(checkIn_RDD).map(lambda x: combine_lists(x)).leftOuterJoin(photo_RDD).map(lambda x: combine_lists(x)).leftOuterJoin(tips_business_RDD).map(lambda x: combine_lists(x))\n",
    "\n",
    "\n"
   ]
  },
  {
   "cell_type": "code",
   "execution_count": 15,
   "id": "d92e1b8a",
   "metadata": {},
   "outputs": [],
   "source": [
    "# Combine the following RDDs to create a vector for each user with user id as key and list of features as value\n",
    "# user_RDD + tips_user_RDD\n",
    "# make sure to fix NoneType error when combining lists since some values are None\n",
    "\n",
    "user_features_RDD = user_RDD.leftOuterJoin(tips_user_RDD).map(lambda x: combine_lists(x))"
   ]
  },
  {
   "cell_type": "code",
   "execution_count": 67,
   "id": "80adf79d",
   "metadata": {},
   "outputs": [],
   "source": [
    "# join the train_RDD and business_features_RDD\n",
    "# we need to have the business_id as the key for this\n",
    "train_RDD_tmp = train_RDD.map(lambda x: (x[1], x[0]))\n",
    "train_join_business_features_RDD = train_RDD_tmp.leftOuterJoin(business_features_RDD).map(lambda x: combine_lists(x))\n",
    "\n"
   ]
  },
  {
   "cell_type": "code",
   "execution_count": 83,
   "id": "cb9c2179",
   "metadata": {},
   "outputs": [],
   "source": [
    "def switch_keys(data_row):\n",
    "    bus_id = data_row[0]\n",
    "    usr_id = data_row[1][0]\n",
    "    features = data_row[1][1:]\n",
    "    \n",
    "    return (usr_id, [bus_id] + features)"
   ]
  },
  {
   "cell_type": "code",
   "execution_count": 92,
   "id": "d074556d",
   "metadata": {},
   "outputs": [],
   "source": [
    "# now join this with the user_features_RDD. We need to have the user_id as key for this\n",
    "train_join_business_features_RDD_tmp = train_join_business_features_RDD.map(lambda x: switch_keys(x))\n",
    "train_join_business_features_user_features_RDD = train_join_business_features_RDD_tmp.leftOuterJoin(user_features_RDD)\n",
    "\n"
   ]
  },
  {
   "cell_type": "code",
   "execution_count": 110,
   "id": "a5226029",
   "metadata": {},
   "outputs": [],
   "source": [
    "def join_all(data_row):\n",
    "    usr_id = data_row[0]\n",
    "    bus_id = data_row[1][0][0]\n",
    "    bus_features = data_row[1][0][1:]\n",
    "    usr_features = data_row[1][1]\n",
    "    \n",
    "    return ((usr_id, bus_id), bus_features + usr_features)"
   ]
  },
  {
   "cell_type": "code",
   "execution_count": 124,
   "id": "91d76d00",
   "metadata": {},
   "outputs": [],
   "source": [
    "# format the data as (user_id, business_id) [feature1, feature2, ...]\n",
    "train_all_joined_MAP = train_join_business_features_user_features_RDD.map(lambda x: join_all(x)).collectAsMap()"
   ]
  },
  {
   "cell_type": "code",
   "execution_count": 127,
   "id": "58f124b7",
   "metadata": {},
   "outputs": [],
   "source": [
    "# get the values in trainRDD\n",
    "labels_MAP = train_RDD.map(lambda x: ((x[0], x[1]), x[2])).collectAsMap()"
   ]
  },
  {
   "cell_type": "code",
   "execution_count": null,
   "id": "f8d789e3",
   "metadata": {},
   "outputs": [],
   "source": []
  }
 ],
 "metadata": {
  "kernelspec": {
   "display_name": "Python 3",
   "language": "python",
   "name": "python3"
  },
  "language_info": {
   "codemirror_mode": {
    "name": "ipython",
    "version": 3
   },
   "file_extension": ".py",
   "mimetype": "text/x-python",
   "name": "python",
   "nbconvert_exporter": "python",
   "pygments_lexer": "ipython3",
   "version": "3.6.13"
  }
 },
 "nbformat": 4,
 "nbformat_minor": 5
}
