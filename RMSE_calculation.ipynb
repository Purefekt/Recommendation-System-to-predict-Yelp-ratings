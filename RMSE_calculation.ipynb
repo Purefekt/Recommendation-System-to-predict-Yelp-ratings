{
 "cells": [
  {
   "cell_type": "code",
   "execution_count": 1,
   "id": "7f78674c",
   "metadata": {},
   "outputs": [],
   "source": [
    "import math\n",
    "from sklearn.metrics import mean_squared_error"
   ]
  },
  {
   "cell_type": "markdown",
   "id": "925c58e6",
   "metadata": {},
   "source": [
    "## Calculate RMSE"
   ]
  },
  {
   "cell_type": "code",
   "execution_count": 2,
   "id": "a257ea06",
   "metadata": {},
   "outputs": [],
   "source": [
    "# original data\n",
    "fhand = open('/Users/veersingh/Desktop/competition_files/yelp_val.csv','r')\n",
    "validation_data = []\n",
    "for line in fhand.readlines():\n",
    "    validation_data.append(line.strip())\n",
    "validation_data = validation_data[1:]\n",
    "\n",
    "validation_data = list(map(lambda x: x.split(','), validation_data))\n",
    "validation_data = list(map(lambda x: (x[0], x[1], float(x[2])), validation_data))\n",
    "validation_data = list(map(lambda x: ((x[0], x[1]), x[2]), validation_data))\n",
    "\n",
    "validation_dict = {}\n",
    "for user_business, rating in validation_data:\n",
    "    validation_dict[user_business] = rating"
   ]
  },
  {
   "cell_type": "code",
   "execution_count": 3,
   "id": "288eedad",
   "metadata": {},
   "outputs": [],
   "source": [
    "# my data\n",
    "fhand = open('/Users/veersingh/Desktop/Recommendation-System-to-predict-Yelp-ratings/output_from_saved.csv', 'r')\n",
    "my_data = []\n",
    "for line in fhand.readlines():\n",
    "    my_data.append(line.strip())\n",
    "my_data = my_data[1:]\n",
    "\n",
    "my_data = list(map(lambda x: x.split(','), my_data))\n",
    "my_data = list(map(lambda x: ((x[0], x[1]), float(x[2])), my_data))\n",
    "\n",
    "my_data_dict = {}\n",
    "for user_business, rating in my_data:\n",
    "    my_data_dict[user_business] = rating"
   ]
  },
  {
   "cell_type": "code",
   "execution_count": 4,
   "id": "c6e7578a",
   "metadata": {},
   "outputs": [],
   "source": [
    "MSE = 0\n",
    "for k in validation_dict:\n",
    "    MSE += math.pow((validation_dict[k] - my_data_dict[k]),2)\n",
    "\n",
    "RMSE = math.sqrt(MSE/len(validation_dict))*10000"
   ]
  },
  {
   "cell_type": "code",
   "execution_count": 5,
   "id": "016d0851",
   "metadata": {},
   "outputs": [
    {
     "data": {
      "text/plain": [
       "9776.13755251916"
      ]
     },
     "execution_count": 5,
     "metadata": {},
     "output_type": "execute_result"
    }
   ],
   "source": [
    "RMSE"
   ]
  },
  {
   "cell_type": "markdown",
   "id": "bb5a5ce6",
   "metadata": {},
   "source": [
    "# Using sklearn"
   ]
  },
  {
   "cell_type": "code",
   "execution_count": 6,
   "id": "a7f15173",
   "metadata": {},
   "outputs": [],
   "source": [
    "y_true = []\n",
    "y_pred = []\n",
    "\n",
    "for k in validation_dict:\n",
    "    y_true.append(validation_dict[k])\n",
    "    y_pred.append(my_data_dict[k])"
   ]
  },
  {
   "cell_type": "code",
   "execution_count": 7,
   "id": "16eb428e",
   "metadata": {},
   "outputs": [],
   "source": [
    "RMSE_sklearn = mean_squared_error(y_pred, y_true, squared=False)*10000"
   ]
  },
  {
   "cell_type": "code",
   "execution_count": 8,
   "id": "5e6b34bf",
   "metadata": {
    "scrolled": true
   },
   "outputs": [
    {
     "data": {
      "text/plain": [
       "9776.137552519192"
      ]
     },
     "execution_count": 8,
     "metadata": {},
     "output_type": "execute_result"
    }
   ],
   "source": [
    "RMSE_sklearn"
   ]
  },
  {
   "cell_type": "markdown",
   "id": "0ca7c13e",
   "metadata": {},
   "source": [
    "# Calculate Error Distribution"
   ]
  },
  {
   "cell_type": "code",
   "execution_count": 9,
   "id": "0dd0d8a4",
   "metadata": {},
   "outputs": [
    {
     "name": "stdout",
     "output_type": "stream",
     "text": [
      "zero 102203\n",
      "one 32910\n",
      "two 6172\n",
      "three 759\n",
      "four 0\n"
     ]
    }
   ],
   "source": [
    "error_distrib = {\n",
    "    'zero': 0,\n",
    "    'one': 0,\n",
    "    'two': 0,\n",
    "    'three': 0,\n",
    "    'four':0\n",
    "}\n",
    "\n",
    "for k in validation_dict:\n",
    "    absolute_diff = abs(validation_dict[k] - my_data_dict[k])\n",
    "    \n",
    "    if absolute_diff < 1:\n",
    "        error_distrib['zero'] += 1\n",
    "    elif 1 <= absolute_diff < 2:\n",
    "        error_distrib['one'] += 1\n",
    "    elif 2 <= absolute_diff < 3:\n",
    "        error_distrib['two'] += 1\n",
    "    elif 3 <= absolute_diff < 4:\n",
    "        error_distrib['three'] += 1\n",
    "    elif absolute_diff >= 4:\n",
    "        error_distrib['four'] += 1\n",
    "        \n",
    "for k,v in error_distrib.items():\n",
    "    print(k,v)"
   ]
  },
  {
   "cell_type": "code",
   "execution_count": 10,
   "id": "c9c0dac2",
   "metadata": {},
   "outputs": [
    {
     "name": "stdout",
     "output_type": "stream",
     "text": [
      ">=0 and <1: 102203\n",
      ">=1 and <2: 32910\n",
      ">=2 and <3: 6172\n",
      ">=3 and <4: 759\n",
      ">=4 0\n"
     ]
    }
   ],
   "source": [
    "print(f\">=0 and <1: {error_distrib['zero']}\")\n",
    "print(f\">=1 and <2: {error_distrib['one']}\")\n",
    "print(f\">=2 and <3: {error_distrib['two']}\")\n",
    "print(f\">=3 and <4: {error_distrib['three']}\")\n",
    "print(f\">=4 {error_distrib['four']}\")"
   ]
  },
  {
   "cell_type": "code",
   "execution_count": 11,
   "id": "530f0c17",
   "metadata": {},
   "outputs": [],
   "source": [
    "prev = 9784.022196357953"
   ]
  },
  {
   "cell_type": "code",
   "execution_count": 12,
   "id": "82bf3cad",
   "metadata": {},
   "outputs": [
    {
     "data": {
      "text/plain": [
       "9784.022196357953"
      ]
     },
     "execution_count": 12,
     "metadata": {},
     "output_type": "execute_result"
    }
   ],
   "source": [
    "prev"
   ]
  },
  {
   "cell_type": "code",
   "execution_count": 13,
   "id": "479cbbcd",
   "metadata": {},
   "outputs": [
    {
     "data": {
      "text/plain": [
       "9776.811134185271"
      ]
     },
     "execution_count": 13,
     "metadata": {},
     "output_type": "execute_result"
    }
   ],
   "source": [
    "rmse_all_feats_def_zero = 9776.811134185271\n",
    "\n",
    "rmse_all_feats_def_zero"
   ]
  },
  {
   "cell_type": "code",
   "execution_count": 14,
   "id": "6e01d522",
   "metadata": {},
   "outputs": [
    {
     "data": {
      "text/plain": [
       "9776.137552519192"
      ]
     },
     "execution_count": 14,
     "metadata": {},
     "output_type": "execute_result"
    }
   ],
   "source": [
    "rmse_all_feats_def_nan = 9776.137552519192\n",
    "\n",
    "rmse_all_feats_def_nan"
   ]
  },
  {
   "cell_type": "code",
   "execution_count": null,
   "id": "740bbc2c",
   "metadata": {},
   "outputs": [],
   "source": []
  }
 ],
 "metadata": {
  "kernelspec": {
   "display_name": "Python 3",
   "language": "python",
   "name": "python3"
  },
  "language_info": {
   "codemirror_mode": {
    "name": "ipython",
    "version": 3
   },
   "file_extension": ".py",
   "mimetype": "text/x-python",
   "name": "python",
   "nbconvert_exporter": "python",
   "pygments_lexer": "ipython3",
   "version": "3.6.13"
  }
 },
 "nbformat": 4,
 "nbformat_minor": 5
}
