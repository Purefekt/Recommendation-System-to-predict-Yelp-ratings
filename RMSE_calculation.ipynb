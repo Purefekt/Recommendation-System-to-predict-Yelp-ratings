{
 "cells": [
  {
   "cell_type": "code",
   "execution_count": null,
   "id": "7f78674c",
   "metadata": {},
   "outputs": [],
   "source": [
    "import math"
   ]
  },
  {
   "cell_type": "markdown",
   "id": "925c58e6",
   "metadata": {},
   "source": [
    "## Calculate RMSE"
   ]
  },
  {
   "cell_type": "code",
   "execution_count": null,
   "id": "a257ea06",
   "metadata": {},
   "outputs": [],
   "source": [
    "# original data\n",
    "fhand = open('/Users/veersingh/Desktop/competition_files/yelp_val.csv','r')\n",
    "validation_data = []\n",
    "for line in fhand.readlines():\n",
    "    validation_data.append(line.strip())\n",
    "validation_data = validation_data[1:]\n",
    "\n",
    "validation_data = list(map(lambda x: x.split(','), validation_data))\n",
    "validation_data = list(map(lambda x: (x[0], x[1], float(x[2])), validation_data))\n",
    "validation_data = list(map(lambda x: ((x[0], x[1]), x[2]), validation_data))\n",
    "\n",
    "validation_dict = {}\n",
    "for user_business, rating in validation_data:\n",
    "    validation_dict[user_business] = rating"
   ]
  },
  {
   "cell_type": "code",
   "execution_count": null,
   "id": "288eedad",
   "metadata": {},
   "outputs": [],
   "source": [
    "# MY DATA\n",
    "fhand = open('/Users/veersingh/Desktop/Recommendation-System-to-predict-Yelp-ratings/result_xgb.csv', 'r')\n",
    "my_data = []\n",
    "for line in fhand.readlines():\n",
    "    my_data.append(line.strip())\n",
    "my_data = my_data[1:]\n",
    "\n",
    "my_data = list(map(lambda x: x.split(','), my_data))\n",
    "my_data = list(map(lambda x: ((x[0], x[1]), float(x[2])), my_data))\n",
    "\n",
    "my_data_dict = {}\n",
    "for user_business, rating in my_data:\n",
    "    my_data_dict[user_business] = rating"
   ]
  },
  {
   "cell_type": "code",
   "execution_count": null,
   "id": "65d5f736",
   "metadata": {},
   "outputs": [],
   "source": [
    "MSE = 0\n",
    "for user_business in validation_dict:\n",
    "    MSE += (my_data_dict[user_business] - validation_dict[user_business])**2\n",
    "\n",
    "RMSE = math.sqrt((1/len(my_data))*MSE)"
   ]
  },
  {
   "cell_type": "code",
   "execution_count": null,
   "id": "016d0851",
   "metadata": {},
   "outputs": [],
   "source": [
    "RMSE"
   ]
  }
 ],
 "metadata": {
  "kernelspec": {
   "display_name": "Python 3",
   "language": "python",
   "name": "python3"
  },
  "language_info": {
   "codemirror_mode": {
    "name": "ipython",
    "version": 3
   },
   "file_extension": ".py",
   "mimetype": "text/x-python",
   "name": "python",
   "nbconvert_exporter": "python",
   "pygments_lexer": "ipython3",
   "version": "3.6.13"
  }
 },
 "nbformat": 4,
 "nbformat_minor": 5
}
