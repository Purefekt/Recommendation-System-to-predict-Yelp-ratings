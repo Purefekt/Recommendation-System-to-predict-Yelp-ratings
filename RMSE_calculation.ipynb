{
 "cells": [
  {
   "cell_type": "code",
   "execution_count": 17,
   "id": "7f78674c",
   "metadata": {},
   "outputs": [],
   "source": [
    "import math\n",
    "from sklearn.metrics import mean_squared_error"
   ]
  },
  {
   "cell_type": "markdown",
   "id": "925c58e6",
   "metadata": {},
   "source": [
    "## Calculate RMSE"
   ]
  },
  {
   "cell_type": "code",
   "execution_count": 18,
   "id": "a257ea06",
   "metadata": {},
   "outputs": [],
   "source": [
    "# original data\n",
    "fhand = open('/Users/veersingh/Desktop/competition_files/yelp_val.csv','r')\n",
    "validation_data = []\n",
    "for line in fhand.readlines():\n",
    "    validation_data.append(line.strip())\n",
    "validation_data = validation_data[1:]\n",
    "\n",
    "validation_data = list(map(lambda x: x.split(','), validation_data))\n",
    "validation_data = list(map(lambda x: (x[0], x[1], float(x[2])), validation_data))\n",
    "validation_data = list(map(lambda x: ((x[0], x[1]), x[2]), validation_data))\n",
    "\n",
    "validation_dict = {}\n",
    "for user_business, rating in validation_data:\n",
    "    validation_dict[user_business] = rating"
   ]
  },
  {
   "cell_type": "code",
   "execution_count": 19,
   "id": "288eedad",
   "metadata": {},
   "outputs": [],
   "source": [
    "# MY DATA\n",
    "fhand = open('/Users/veersingh/Desktop/Recommendation-System-to-predict-Yelp-ratings/output.csv', 'r')\n",
    "my_data = []\n",
    "for line in fhand.readlines():\n",
    "    my_data.append(line.strip())\n",
    "my_data = my_data[1:]\n",
    "\n",
    "my_data = list(map(lambda x: x.split(','), my_data))\n",
    "my_data = list(map(lambda x: ((x[0], x[1]), float(x[2])), my_data))\n",
    "\n",
    "my_data_dict = {}\n",
    "for user_business, rating in my_data:\n",
    "    my_data_dict[user_business] = rating"
   ]
  },
  {
   "cell_type": "code",
   "execution_count": 20,
   "id": "65d5f736",
   "metadata": {},
   "outputs": [],
   "source": [
    "MSE = 0\n",
    "for user_business in validation_dict:\n",
    "    MSE += (my_data_dict[user_business] - validation_dict[user_business])**2\n",
    "\n",
    "RMSE = math.sqrt((1/len(my_data))*MSE)"
   ]
  },
  {
   "cell_type": "code",
   "execution_count": 21,
   "id": "016d0851",
   "metadata": {},
   "outputs": [
    {
     "data": {
      "text/plain": [
       "0.9806228894310758"
      ]
     },
     "execution_count": 21,
     "metadata": {},
     "output_type": "execute_result"
    }
   ],
   "source": [
    "RMSE"
   ]
  },
  {
   "cell_type": "code",
   "execution_count": 34,
   "id": "d89c871d",
   "metadata": {},
   "outputs": [],
   "source": [
    "lol = 0.9809256565346937"
   ]
  },
  {
   "cell_type": "code",
   "execution_count": 35,
   "id": "4f55a04b",
   "metadata": {},
   "outputs": [
    {
     "data": {
      "text/plain": [
       "-0.0003027671036178736"
      ]
     },
     "execution_count": 35,
     "metadata": {},
     "output_type": "execute_result"
    }
   ],
   "source": [
    "RMSE - lol"
   ]
  },
  {
   "cell_type": "markdown",
   "id": "428f24f8",
   "metadata": {},
   "source": [
    "# Using sklearn"
   ]
  },
  {
   "cell_type": "code",
   "execution_count": 22,
   "id": "32e2cda3",
   "metadata": {},
   "outputs": [],
   "source": [
    "# original data\n",
    "fhand = open('/Users/veersingh/Desktop/competition_files/yelp_val.csv','r')\n",
    "validation_data = []\n",
    "for line in fhand.readlines():\n",
    "    validation_data.append(line.strip())\n",
    "validation_data = validation_data[1:]\n",
    "\n",
    "validation_data = list(map(lambda x: x.split(','), validation_data))\n",
    "validation_data = list(map(lambda x: (x[0], x[1], float(x[2])), validation_data))\n",
    "validation_data = list(map(lambda x: ((x[0], x[1]), x[2]), validation_data))\n",
    "\n",
    "validation_dict = {}\n",
    "for user_business, rating in validation_data:\n",
    "    validation_dict[user_business] = rating\n",
    "    \n",
    "keys_sorted = sorted(validation_dict.keys())\n",
    "sorted_true_ratings = []\n",
    "for k in keys_sorted:\n",
    "    sorted_true_ratings.append(validation_dict[k])"
   ]
  },
  {
   "cell_type": "code",
   "execution_count": 29,
   "id": "1dd5da84",
   "metadata": {},
   "outputs": [],
   "source": [
    "# MY DATA\n",
    "fhand = open('/Users/veersingh/Desktop/Recommendation-System-to-predict-Yelp-ratings/output.csv', 'r')\n",
    "my_data = []\n",
    "for line in fhand.readlines():\n",
    "    my_data.append(line.strip())\n",
    "my_data = my_data[1:]\n",
    "\n",
    "my_data = list(map(lambda x: x.split(','), my_data))\n",
    "my_data = list(map(lambda x: ((x[0], x[1]), float(x[2])), my_data))\n",
    "\n",
    "my_data_dict = {}\n",
    "for user_business, rating in my_data:\n",
    "    my_data_dict[user_business] = rating\n",
    "    \n",
    "keys_sorted = sorted(my_data_dict.keys())\n",
    "sorted_predictions = []\n",
    "for k in keys_sorted:\n",
    "    sorted_predictions.append(my_data_dict[k])"
   ]
  },
  {
   "cell_type": "code",
   "execution_count": null,
   "id": "1c5a4400",
   "metadata": {},
   "outputs": [],
   "source": [
    "y_true = [3, -0.5, 2, 7]\n",
    "y_pred = [2.5, 0.0, 2, 8]\n",
    "mean_squared_error(y_true, y_pred)"
   ]
  },
  {
   "cell_type": "code",
   "execution_count": 30,
   "id": "efbb2d21",
   "metadata": {},
   "outputs": [],
   "source": [
    "RMSE_sklearn = mean_squared_error(y_true=sorted_true_predictions, y_pred=sorted_predictions)"
   ]
  },
  {
   "cell_type": "code",
   "execution_count": 31,
   "id": "3a6869f7",
   "metadata": {},
   "outputs": [
    {
     "data": {
      "text/plain": [
       "0.9616212512761634"
      ]
     },
     "execution_count": 31,
     "metadata": {},
     "output_type": "execute_result"
    }
   ],
   "source": [
    "RMSE_sklearn"
   ]
  },
  {
   "cell_type": "code",
   "execution_count": null,
   "id": "0af1a46a",
   "metadata": {},
   "outputs": [],
   "source": []
  }
 ],
 "metadata": {
  "kernelspec": {
   "display_name": "Python 3",
   "language": "python",
   "name": "python3"
  },
  "language_info": {
   "codemirror_mode": {
    "name": "ipython",
    "version": 3
   },
   "file_extension": ".py",
   "mimetype": "text/x-python",
   "name": "python",
   "nbconvert_exporter": "python",
   "pygments_lexer": "ipython3",
   "version": "3.6.13"
  }
 },
 "nbformat": 4,
 "nbformat_minor": 5
}
