{
 "cells": [
  {
   "cell_type": "code",
   "execution_count": 1,
   "id": "e709b345",
   "metadata": {},
   "outputs": [],
   "source": [
    "from pyspark.context import SparkContext\n",
    "import json\n",
    "from datetime import datetime\n",
    "import pytz\n",
    "from xgboost import XGBRegressor\n",
    "import time\n",
    "import sys\n",
    "import ast\n",
    "from collections import defaultdict"
   ]
  },
  {
   "cell_type": "code",
   "execution_count": 2,
   "id": "b6fdd073",
   "metadata": {},
   "outputs": [],
   "source": [
    "sc = SparkContext()\n",
    "sc.setLogLevel('ERROR')"
   ]
  },
  {
   "cell_type": "code",
   "execution_count": 3,
   "id": "f389420d",
   "metadata": {},
   "outputs": [],
   "source": [
    "FOLDER_PATH = '/Users/veersingh/Desktop/competition_files/'\n",
    "TESTING_FILE_PATH = '/Users/veersingh/Desktop/competition_files/yelp_val.csv'\n",
    "OUTPUT_FILE_PATH = '/Users/veersingh/Desktop/Recommendation-System-to-predict-Yelp-ratings/output.csv'\n",
    "\n",
    "TRAIN_FILE_PATH = FOLDER_PATH + 'yelp_train.csv'\n",
    "BUSINESS_FILE_PATH = FOLDER_PATH + 'business.json'\n",
    "CHECKIN_FILE_PATH = FOLDER_PATH + 'checkin.json'\n",
    "PHOTO_FILE_PATH = FOLDER_PATH + 'photo.json'\n",
    "TIP_FILE_PATH = FOLDER_PATH + 'tip.json'\n",
    "USER_FILE_PATH = FOLDER_PATH + 'user.json'"
   ]
  },
  {
   "cell_type": "code",
   "execution_count": 4,
   "id": "9932ff82",
   "metadata": {},
   "outputs": [],
   "source": [
    "business_RDD = sc.textFile(BUSINESS_FILE_PATH).map(lambda x: json.loads(x))"
   ]
  },
  {
   "cell_type": "markdown",
   "id": "07b8cc6c",
   "metadata": {},
   "source": [
    "# Get all the unique features from all businesses in training data"
   ]
  },
  {
   "cell_type": "code",
   "execution_count": 5,
   "id": "c7850fe9",
   "metadata": {},
   "outputs": [],
   "source": [
    "def extract_features(data_row):\n",
    "    \n",
    "    features = set()\n",
    "    \n",
    "    for k,v in data_row.items():\n",
    "        if type(v) != dict:   \n",
    "            # if it is a categories, create a separate feature for each category\n",
    "            if k == 'categories':\n",
    "                if v is not None:\n",
    "                    categories = v.split(',')\n",
    "                    for category in categories:\n",
    "                        features.add(category.strip())\n",
    "            else:\n",
    "                features.add(k.strip())\n",
    "            \n",
    "        else:\n",
    "            # if it is a dict then expand\n",
    "            for k2, v2 in v.items():\n",
    "                if v2[0] == '{' and v2[-1] == '}':\n",
    "                    # convert to dict\n",
    "                    v2 = ast.literal_eval(v2)\n",
    "                    \n",
    "                    for k3,v3 in v2.items():\n",
    "                        # use delimitter $ to rename\n",
    "                        feature_name = k + '$' + k2 + '$' + k3\n",
    "                        features.add(feature_name.strip())\n",
    "                else:\n",
    "                    # use delimitter $ to rename\n",
    "                    feature_name = k + '$' + k2\n",
    "                    features.add(feature_name.strip())\n",
    "        \n",
    "    return features"
   ]
  },
  {
   "cell_type": "code",
   "execution_count": 6,
   "id": "e47b4437",
   "metadata": {},
   "outputs": [
    {
     "name": "stdout",
     "output_type": "stream",
     "text": [
      "{'Muay Thai', 'Spine Surgeons', 'Cannabis Clinics', 'Dental Hygienists', 'Mattresses', 'Disc Golf', 'Nutritionists', 'Bus Rental', 'Colonics', 'Employment Law', 'Engraving', 'Visitor Centers', 'attributes$Ambience$romantic', 'Emergency Pet Hospital', 'Dry Cleaning', 'Check Cashing/Pay-day Loans', 'Powder Coating', 'Water Delivery', 'Condominiums', 'Rolfing', 'Mobile Home Repair', 'Ethnic Food', 'Hang Gliding', 'Specialty Schools', 'Sugaring', 'Malaysian', 'Pakistani', 'DUI Law', 'Diagnostic Services', 'Bed & Breakfast', 'Ethical Grocery', 'Fish & Chips', 'Rugs', 'Post Offices', 'Buddhist Temples', 'Vacation Rental Agents', 'Vocational & Technical School', 'Italian', 'Shredding Services', 'Sugar Shacks', 'Personal Care Services', 'Accountants', 'Carpet Installation', 'Comedy Clubs', 'attributes$DietaryRestrictions$halal', 'attributes$DogsAllowed', 'Flea Markets', 'Taiwanese', 'Pole Dancing Classes', 'Pensions', 'Historical Tours', 'Kids Activities', 'Scavenger Hunts', 'Preschools', 'attributes$Ambience$hipster', 'Religious Schools', 'Carpenters', 'Korean', 'Musical Instrument Services', 'Diving', 'Bicycles', 'attributes$GoodForDancing', 'Cosmetics & Beauty Supply', 'Tax Services', 'Hong Kong Style Cafe', 'Cardiologists', 'attributes$GoodForMeal$dessert', 'Farming Equipment', 'Saunas', 'attributes$DietaryRestrictions$gluten-free', 'Mobile Dent Repair', 'Sex Therapists', 'Septic Services', 'Street Vendors', 'American (New)', 'attributes$DietaryRestrictions$vegetarian', 'attributes$Ambience$upscale', 'Personal Chefs', 'Motorsport Vehicle Dealers', 'Senegalese', 'attributes$Music$jukebox', 'Smog Check Stations', 'Grilling Equipment', 'Martial Arts', 'Tableware', 'Music Venues', 'Paint Stores', 'Hair Stylists', 'Game Meat', 'Canadian (New)', 'CPR Classes', 'Pressure Washers', 'Furniture Reupholstery', 'Party & Event Planning', 'Home Staging', 'Poutineries', 'Free Diving', 'Fences & Gates', 'Hydroponics', 'Home Theatre Installation', 'Uzbek', 'Tempura', 'Shopping Centers', 'Taekwondo', 'attributes$RestaurantsAttire', 'Optometrists', 'Radio Stations', 'Graphic Design', 'Amateur Sports Teams', 'Waterproofing', 'Dry Cleaning & Laundry', 'Brewing Supplies', 'Medical Supplies', 'New Mexican Cuisine', 'Ethnic Grocery', 'Home Cleaning', 'Ukrainian', 'Pool Cleaners', 'Laser Eye Surgery/Lasik', 'Fur Clothing', 'Feng Shui', 'Television Stations', 'Pool Halls', 'Wraps', 'LAN Centers', 'Fireworks', 'Clowns', 'Endocrinologists', 'Holiday Decorating Services', 'Tattoo Removal', 'Banks & Credit Unions', 'Pasta Shops', 'attributes$BusinessAcceptsBitcoin', 'Acupuncture', 'Beer Garden', 'Workers Compensation Law', 'Interlock Systems', 'Cabaret', 'French', 'Bars', 'Education', 'Transportation', 'Cheese Shops', 'Property Management', 'Officiants', 'Donation Center', 'Wigs', 'Carpet Cleaning', 'Buffets', 'Sports Wear', 'Speech Therapists', 'Mediators', 'Pub Food', 'Entertainment Law', 'Teeth Whitening', 'Argentine', 'Jewelry Repair', 'Health Coach', 'Utilities', 'Herbs & Spices', 'Junkyards', 'Irish Pub', 'Roofing', 'Body Contouring', 'Dermatologists', 'Music & DVDs', 'Gutter Services', 'Baby Gear & Furniture', 'Emergency Medicine', 'Sports Medicine', 'Duplication Services', 'Pumpkin Patches', 'attributes$BestNights$friday', 'Car Rental', 'is_open', 'attributes$AcceptsInsurance', 'International Grocery', 'Nightlife', 'Olive Oil', 'Herbal Shops', 'Spiritual Shop', 'Falafel', 'Boxing', \"Women's Clothing\", 'Video/Film Production', 'attributes$HairSpecializesIn$coloring', 'Kosher', 'Bankruptcy Law', 'Vietnamese', 'Podiatrists', 'Luggage Storage', 'Lakes', 'Outdoor Gear', 'Career Counseling', 'Boat Charters', 'Psychic Mediums', 'Art Museums', 'Skating Rinks', 'Pets', 'RV Repair', 'Furniture Rental', 'Golf Equipment', 'Mosques', 'Knife Sharpening', 'Beer Bar', 'Preventive Medicine', 'Sports Bars', 'Pawn Shops', 'Fire Protection Services', 'Estate Liquidation', 'Perfume', 'Bike Repair/Maintenance', 'Mobile Phones', 'Trivia Hosts', 'Squash', 'Roof Inspectors', 'Spin Classes', 'Salvadoran', 'Live/Raw Food', 'attributes$GoodForMeal$latenight', 'Pizza', 'Auto Parts & Supplies', 'Concept Shops', 'Surgeons', 'Horse Boarding', 'Architectural Tours', 'Private Jet Charter', 'Kitchen Incubators', 'Palatine', 'Blow Dry/Out Services', 'Pilates', 'Comfort Food', 'Hainan', 'Cafes', 'ATV Rentals/Tours', 'Beach Volleyball', 'Wholesalers', 'Threading Services', 'Toy Stores', 'Massage Therapy', 'Adoption Services', 'attributes$HairSpecializesIn$curly', 'Anesthesiologists', 'Printing Services', 'Home Health Care', 'Ultrasound Imaging Centers', 'Attraction Farms', 'Makeup Artists', 'Cigar Bars', 'Sport Equipment Hire', 'High Fidelity Audio Equipment', 'Indian', 'Cajun/Creole', 'attributes$GoodForMeal$breakfast', 'Security Systems', 'Hearing Aid Providers', 'Custom Cakes', 'Nanny Services', 'Beverage Store', 'TV Mounting', 'attributes$BestNights$wednesday', 'Duty-Free Shops', 'Proctologists', 'Music Production Services', 'Colleges & Universities', 'Nephrologists', 'Circuit Training Gyms', 'Greek', 'Auto Security', 'Reiki', 'Challenge Courses', 'Hats', 'Erotic Massage', 'Jewelry', 'Installment Loans', 'Leisure Centers', 'attributes$HairSpecializesIn$africanamerican', 'Reflexology', 'Dance Clubs', 'Trophy Shops', 'Kebab', 'Prenatal/Perinatal Care', 'Izakaya', 'Teppanyaki', 'attributes$HairSpecializesIn$kids', 'Medical Transportation', 'Udon', 'Fishmonger', 'Whiskey Bars', 'Holistic Animal Care', 'First Aid Classes', 'Personal Injury Law', 'attributes$DietaryRestrictions$vegan', 'Aviation Services', 'Food Tours', 'Pan Asian', 'Physical Therapy', 'Mini Golf', 'Traffic Schools', 'Campgrounds', 'Food Banks', 'Nurseries & Gardening', 'Internet Service Providers', 'Patio Coverings', 'Turkish', 'Permanent Makeup', 'Restaurants', 'Honduran', 'Golf Lessons', 'Door Sales/Installation', 'Snow Removal', 'Paintball', 'Hospice', 'Performing Arts', 'Electronics', 'Wine Bars', 'Environmental Abatement', 'Battery Stores', 'Mountain Biking', 'attributes$BYOBCorkage', 'Windows Installation', 'Home Energy Auditors', 'Japanese Curry', 'Plumbing', 'Henna Artists', 'Oil Change Stations', 'Contract Law', 'attributes$AgesAllowed', 'Fireplace Services', 'Laundry Services', 'Mobile Phone Repair', 'Chicken Shop', 'attributes$Smoking', 'Skilled Nursing', 'Car Window Tinting', 'Tubing', 'Piercing', 'Kitchen & Bath', 'Personal Shopping', 'Reunion', 'Dialysis Clinics', 'Farms', 'Hardware Stores', 'Storefront Clinics', 'Endodontists', 'Immunodermatologists', 'DJs', 'Traditional Norwegian', 'Sailing', 'RV Dealers', 'Taxidermy', 'Playsets', 'Retina Specialists', '3D Printing', 'Land Surveying', 'Musicians', 'Propane', 'Polish', 'International', 'Burmese', 'Popcorn Shops', 'Halotherapy', 'attributes$DietaryRestrictions$soy-free', 'Sauna Installation & Repair', 'Ear Nose & Throat', 'Nurse Practitioner', 'Astrologers', 'Mobile Home Parks', 'Bookkeepers', 'Honey', 'South African', 'Observatories', 'Estheticians', 'Bike Sharing', 'Knitting Supplies', 'Matchmakers', 'Child Care & Day Care', 'Misting System Services', 'Petting Zoos', 'attributes$NoiseLevel', 'Shades & Blinds', 'Pretzels', 'Convenience Stores', 'Embassy', 'Real Estate', 'Sporting Goods', 'Session Photography', 'Occupational Therapy', 'Cycling Classes', 'Go Karts', 'Ethiopian', 'Golf Equipment Shops', 'Arts & Entertainment', 'Christmas Trees', 'Aquariums', 'Car Wash', 'Armenian', 'Passport & Visa Services', 'Handyman', 'Drywall Installation & Repair', 'Tires', 'Business Law', 'Customs Brokers', 'Gerontologists', 'Cards & Stationery', 'Crane Services', 'Tapas/Small Plates', 'Mortgage Brokers', 'Shared Office Spaces', 'Business Financing', 'Massage Schools', 'Golf', 'Plus Size Fashion', 'Department Stores', 'Public Art', 'Obstetricians & Gynecologists', 'Registration Services', 'Weight Loss Centers', 'Champagne Bars', 'Motorsport Vehicle Repairs', 'Laotian', 'Trains', 'Boat Tours', 'Diagnostic Imaging', 'Diners', 'Aquarium Services', 'Generator Installation/Repair', 'Pet Boarding', 'Art Galleries', 'Translation Services', 'Town Hall', 'Nursing Schools', 'Food Trucks', 'attributes$BestNights$thursday', 'Insulation Installation', 'Florists', 'Sports Psychologists', 'Investing', 'Electricity Suppliers', 'Signmaking', 'Private Tutors', 'General Litigation', 'Flight Instruction', 'Sunglasses', 'Undersea/Hyperbaric Medicine', 'Debt Relief Services', 'Nail Technicians', 'Marinas', 'Hydro-jetting', 'Home & Garden', 'Party Bus Rentals', 'Wills', 'Aircraft Dealers', 'Office Equipment', 'Doctors', 'Auto Electric Services', 'Chocolatiers & Shops', 'Pop-up Shops', 'Refinishing Services', 'Barbeque', 'Homeless Shelters', 'Asian Fusion', 'Beach Equipment Rentals', 'Conveyor Belt Sushi', 'Vinyl Records', 'Garage Door Services', 'Art Classes', 'Embroidery & Crochet', 'Hawaiian', 'Swimming Lessons/Schools', 'Swimming Pools', 'Hookah Bars', 'Mortuary Services', 'Reptile Shops', 'Piano Bars', 'Dietitians', 'Game Truck Rental', 'Masonry/Concrete', 'Hungarian', 'Peruvian', 'Creperies', 'Churches', 'Emergency Rooms', 'Indoor Playcentre', 'Airport Shuttles', 'Billing Services', 'Archery', 'General Dentistry', 'Island Pub', 'Auto Upholstery', 'Boat Parts & Supplies', 'Czech/Slovakian', 'Criminal Defense Law', 'Mass Media', 'Surf Shop', 'Parenting Classes', 'Bespoke Clothing', 'Firewood', 'Commissioned Artists', 'Retirement Homes', 'Social Clubs', 'Valet Services', 'Screen Printing/T-Shirt Printing', 'Livestock Feed & Supply', 'Pest Control', 'Buses', 'Racing Experience', 'Otologists', 'Spray Tanning', 'Urgent Care', 'Specialty Food', 'Bowling', 'Adult Education', 'Strip Clubs', 'Supper Clubs', 'Toxicologists', 'Traditional Clothing', 'Carousels', 'Sri Lankan', 'Bookstores', 'Religious Organizations', 'Oncologist', 'Waxing', 'Comic Books', 'Parks', 'Shaved Ice', 'Addiction Medicine', 'Auto Loan Providers', 'Airport Lounges', 'Steakhouses', 'Cuban', 'Colombian', 'Interval Training Gyms', 'Car Auctions', 'Lingerie', 'Car Dealers', 'Cafeteria', 'Appliances & Repair', 'Departments of Motor Vehicles', 'Motorcycle Gear', 'Festivals', 'Hazardous Waste Disposal', 'Golf Cart Dealers', 'Irrigation', 'IV Hydration', 'Fuel Docks', 'Tanning Beds', 'Sushi Bars', 'Paint-Your-Own Pottery', 'Trailer Rental', 'Clock Repair', 'Body Shops', 'state', 'attributes$BikeParking', 'attributes$BusinessAcceptsCreditCards', 'Gastroenterologist', 'Casinos', 'Pool & Billiards', 'Lawyers', 'Periodontists', 'Yelp Events', 'Waldorf Schools', 'Tea Rooms', 'Pulmonologist', 'Service Stations', 'Jet Skis', 'attributes$Alcohol', 'Flooring', 'Neurotologists', 'Lactation Services', 'attributes$BusinessParking$validated', 'Bail Bondsmen', 'Cooking Schools', 'Psychiatrists', 'Machine & Tool Rental', 'Grocery', 'Art Schools', 'Pet Services', 'Auction Houses', 'Photo Booth Rentals', 'Libraries', 'Pediatricians', 'attributes$RestaurantsTakeOut', 'Cremation Services', 'IP & Internet Law', 'Senior Centers', 'Wheel & Rim Repair', 'Latin American', 'Damage Restoration', 'Food Stands', 'Makerspaces', 'Pubs', 'Screen Printing', 'Cantonese', 'Kombucha', 'Imported Food', 'Baseball Fields', 'review_count', 'Bookbinding', 'Scuba Diving', 'Print Media', 'Osteopaths', 'Walking Tours', 'Races & Competitions', 'Municipality', 'Hiking', 'Boat Dealers', 'Gastropubs', 'Zoos', 'Fruits & Veggies', 'Home Decor', 'Food', 'attributes$BestNights$sunday', 'Auto Repair', 'attributes$HappyHour', 'Couriers & Delivery Services', 'Photography Classes', 'Cabinetry', 'Arcades', 'Packing Services', 'Truck Rental', 'Trusts', 'Mailbox Centers', 'attributes$DietaryRestrictions$kosher', 'Beach Bars', 'Tai Chi', 'Himalayan/Nepalese', 'Hair Loss Centers', 'Event Photography', 'Ticket Sales', 'Planetarium', 'Interior Design', 'Fondue', 'Rafting/Kayaking', 'Balloon Services', 'Boudoir Photography', 'Bikes', 'Aircraft Repairs', 'Donairs', 'Recreation Centers', 'Hotels', 'Qi Gong', 'Ramen', 'Patent Law', 'Mags', 'Massage', 'Northern German', 'Natural Gas Suppliers', 'Counseling & Mental Health', 'Oxygen Bars', 'Kickboxing', 'attributes$GoodForKids', 'Appraisal Services', 'Hair Extensions', 'Animal Physical Therapy', 'attributes$WiFi', 'Hindu Temples', 'Motorcycle Repair', 'Milkshake Bars', 'Aerial Fitness', 'Fabric Stores', 'Cryotherapy', 'Art Tours', 'Commercial Truck Repair', 'Amusement Parks', 'Tattoo', 'attributes$BestNights$tuesday', 'Chilean', 'attributes$Ambience$divey', 'Water Suppliers', 'Haitian', 'Telecommunications', 'Dog Parks', 'attributes$ByAppointmentOnly', 'Eastern European', 'Vehicle Wraps', 'Musical Instruments & Teachers', 'Paddleboarding', 'Cinema', 'Vacation Rentals', 'hours$Monday', 'Southern', 'Car Brokers', 'Audio/Visual Equipment Rental', 'Day Camps', 'Breakfast & Brunch', 'Tuscan', 'Gay Bars', 'Tax Law', 'Iberian', 'Fertility', 'Software Development', 'Dance Studios', 'Pet Cremation Services', 'Mauritius', 'Hearing Aids', 'Travel Services', 'Solar Panel Cleaning', 'Language Schools', 'Dim Sum', 'Airlines', 'Fire Departments', 'Tui Na', 'Australian', 'Cardio Classes', 'Mortgage Lenders', 'Home Inspectors', 'attributes$BusinessParking$garage', 'Well Drilling', 'Bulgarian', 'Electricians', 'Shopping', 'Chimney Sweeps', 'Pet Insurance', 'Hot Tub & Pool', 'Contractors', 'Real Estate Agents', 'Car Stereo Installation', 'Bartending Schools', 'Financial Advising', 'Dive Bars', 'Swiss Food', 'Laser Tag', 'Vascular Medicine', 'Wineries', 'Macarons', 'Photography Stores & Services', 'attributes$Music$karaoke', 'Butcher', 'Wedding Chapels', 'attributes$HairSpecializesIn$extensions', 'Trailer Dealers', 'Teacher Supplies', 'Restaurant Supplies', 'Pet Transportation', 'Party Supplies', 'attributes$OutdoorSeating', 'Gyms', 'Portuguese', 'Wine & Spirits', 'Apartments', 'Snorkeling', 'hours$Friday', 'Cooking Classes', 'Public Relations', 'Pet Sitting', 'Mobile Phone Accessories', 'Local Services', 'Data Recovery', 'Pet Training', 'Moroccan', 'Cambodian', 'Sewing & Alterations', 'Formal Wear', 'Transmission Repair', 'Aerial Tours', 'Meat Shops', 'Real Estate Services', 'Editorial Services', 'Health & Medical', 'Szechuan', 'Karaoke', 'Drive-In Theater', 'Tree Services', 'Wildlife Hunting Ranges', 'Gelato', 'Bar Crawl', 'Hospitals', 'Ranches', 'Egyptian', 'Community Gardens', 'Race Tracks', 'Fashion', 'Cannabis Collective', 'Salad', 'Bangladeshi', 'College Counseling', 'Framing', 'Process Servers', 'Health Insurance Offices', 'Acai Bowls', 'Arts & Crafts', 'Public Services & Government', 'Haunted Houses', 'Do-It-Yourself Food', 'Allergists', 'attributes$BestNights$saturday', 'attributes$Music$live', 'Customized Merchandise', 'Bartenders', 'Auto Insurance', 'Assisted Living Facilities', 'Event Planning & Services', 'Water Parks', 'Arabian', 'Cheerleading', 'Demolition Services', 'Empanadas', 'attributes$RestaurantsPriceRange2', 'Videographers', 'Internet Cafes', 'Sledding', 'Soul Food', 'Shipping Centers', 'Neuropathologists', 'Sandblasting', 'Homeowner Association', 'Tours', 'hours$Wednesday', 'attributes$Music$background_music', 'Seafood Markets', 'Furniture Stores', 'Beauty & Spas', 'Car Share Services', 'Metro Stations', 'Advertising', 'Skiing', 'Seafood', 'Party Equipment Rentals', 'Sandwiches', 'Candle Stores', 'Concierge Medicine', 'Plastic Surgeons', 'Orthodontists', 'stars', 'Bus Tours', 'Tapas Bars', 'Delicatessen', 'Financial Services', 'attributes$Music$dj', 'Piano Services', 'Adult Entertainment', 'Lebanese', 'Roadside Assistance', 'German', 'Registry Office', 'Float Spa', 'Tiki Bars', 'Animal Shelters', 'Home Services', 'Mediterranean', 'Guns & Ammo', 'Ski Schools', 'Orthopedists', 'Antiques', 'Orthotics', 'Chinese Martial Arts', 'Doulas', 'attributes$DriveThru', 'Painters', 'Internal Medicine', 'Limos', 'Caterers', 'Face Painting', 'Surf Schools', 'Apartment Agents', 'Tasting Classes', 'Shoe Shine', 'Laser Hair Removal', 'Religious Items', 'Breweries', 'longitude', 'Home Network Installation', 'Russian', 'Fishing', 'Summer Camps', 'Cosmetic Surgeons', 'Irish', 'Meditation Centers', 'Gemstones & Minerals', 'Outdoor Movies', 'Bike Repair', 'Striptease Dancers', 'Laboratory Testing', 'Themed Cafes', 'Landmarks & Historical Buildings', 'Dive Shops', 'attributes$Ambience$trendy', 'Infectious Disease Specialists', 'Lighting Stores', 'Public Markets', 'Alternative Medicine', 'Eatertainment', 'Medical Law', 'Local Flavor', 'Divorce & Family Law', 'Pediatric Dentists', 'Court Reporters', 'Persian/Iranian', 'Digitizing Services', 'Automotive', 'Grout Services', 'Neurologist', 'Cheese Tasting Classes', 'Packing Supplies', 'Pathologists', 'Phlebologists', 'Vegetarian', 'Real Estate Law', 'Tiling', 'Hot Air Balloons', 'Boating', 'Vocal Coach', 'Soccer', 'Boot Camps', 'Window Washing', 'Cannabis Tours', 'Public Transportation', 'Backshop', 'attributes$DietaryRestrictions$dairy-free', 'Self-defense Classes', 'Donuts', 'Animal Assisted Therapy', 'Carpet Dyeing', 'Golf Cart Rentals', 'Pop-Up Restaurants', 'Boat Repair', 'attributes$BestNights$monday', 'Christmas Markets', 'Hostels', 'Flyboarding', 'Dance Wear', 'Hypnosis/Hypnotherapy', 'attributes$RestaurantsGoodForGroups', 'Guamanian', \"Children's Museums\", 'Scooter Rentals', 'attributes$BusinessParking$lot', 'Tabletop Games', 'CSA', \"Children's Clothing\", 'Belgian', 'Eyelash Service', 'Wine Tours', 'Beer Gardens', 'Motorcycle Dealers', 'Home Developers', 'Puerto Rican', 'Urologists', 'Personal Assistants', '& Probates', 'Appliances', 'Landscaping', 'Mexican', 'Head Shops', 'Trampoline Parks', 'Car Inspectors', 'Horseback Riding', 'Childproofing', 'Botanical Gardens', 'Water Purification Services', \"Men's Hair Salons\", 'Behavior Analysts', 'RV Rental', 'Auto Customization', 'Vape Shops', 'Adult', 'Pain Management', 'Watches', 'Nudist', 'Medical Foot Care', 'Airports', 'Traffic Ticketing Law', 'Art Supplies', 'Real Estate Photography', 'Junk Removal & Hauling', 'Team Building Activities', 'Beaches', 'Auto Glass Services', 'Life Insurance', 'Photographers', 'Countertop Installation', 'Decks & Railing', 'Tex-Mex', 'Drugstores', 'Water Heater Installation/Repair', 'Day Spas', 'Auto Detailing', 'Tenant and Eviction Law', 'Ski Resorts', 'Tanning', 'Product Design', 'Building Supplies', 'Glass & Mirrors', 'Swimwear', 'Police Departments', 'Ice Cream & Frozen Yogurt', 'attributes$BYOB', 'Vegan', 'Wine Tasting Room', 'Pet Hospice', 'Chicken Wings', 'Tutoring Centers', 'Cideries', 'Gift Shops', 'IT Services & Computer Repair', 'Social Security Law', 'Dinner Theater', 'Pet Photography', 'Fitness/Exercise Equipment', 'Home Automation', 'Hockey Equipment', 'Rehabilitation Center', 'Horse Racing', 'Ophthalmologists', 'Town Car Service', 'Foundation Repair', 'Spanish', 'Japanese', 'Dance Schools', 'Mobile Home Dealers', 'Trainers', 'Hot Pot', 'Soba', 'hours$Saturday', 'Coffee Roasteries', 'Parking', 'Artificial Turf', 'Dentists', 'Gardeners', 'Caribbean', 'attributes$BusinessParking$valet', 'Japanese Sweets', 'Safe Stores', 'Ski & Snowboard Shops', 'Calligraphy', 'Hakka', 'Bike Shop', 'Keys & Locksmiths', 'Civic Center', 'Leather Goods', 'Hotel bar', 'Towing', 'Medical Centers', 'Batting Cages', 'Medical Spas', 'Childbirth Education', 'Test Preparation', 'Soup', 'Sicilian', 'Synagogues', 'Beer Tours', 'Hobby Shops', 'Newspapers & Magazines', 'Vitamins & Supplements', 'Rest Stops', 'Professional Sports Teams', 'Backflow Services', 'Trinidadian', 'Venezuelan', 'Singaporean', 'Chinese', 'Pedicabs', 'American (Traditional)', 'Bridal', 'Acne Treatment', 'Hotels & Travel', 'EV Charging Stations', 'Experiences', 'Title Loans', 'Walk-in Clinics', 'Community Service/Non-Profit', 'Indonesian', 'Jazz & Blues', 'Bike tours', 'Art Space Rentals', 'Veterinarians', 'Bike Parking', 'Austrian', 'Talent Agencies', 'Environmental Testing', 'Indoor Landscaping', 'Waffles', 'Horse Equipment Shops', 'Surfing', 'Stadiums & Arenas', 'Solar Installation', 'Piano Stores', 'hours$Thursday', 'attributes$RestaurantsTableService', 'Cosmetology Schools', 'Oral Surgeons', 'Baguettes', 'Churros', 'attributes$GoodForMeal$lunch', 'General Festivals', 'Candy Stores', 'Museums', 'attributes$WheelchairAccessible', 'Bike Rentals', 'Metal Fabricators', 'Gold Buyers', 'Skydiving', 'Party Characters', 'Hydrotherapy', 'Hepatologists', 'Coffeeshops', 'Family Practice', 'Wedding Planning', 'Ayurveda', 'Windshield Installation & Repair', 'Brazilian', 'Montessori Schools', 'attributes$HairSpecializesIn$asian', 'Wildlife Control', 'Hybrid Car Repair', 'Kitchen Supplies', 'Burgers', 'Commercial Truck Dealers', 'attributes$RestaurantsCounterService', 'Vintage & Consignment', 'Drive-Thru Bars', 'attributes$Music$video', 'attributes$Caters', 'Carpeting', 'Guitar Stores', 'Educational Services', 'Audiologist', 'Elder Care Planning', 'Employment Agencies', 'Rodeo', 'Filipino', 'Active Life', 'Serbo Croatian', 'Modern European', 'Scooter Tours', 'Midwives', 'Recycling Center', 'Prosthetics', 'Recording & Rehearsal Studios', 'Rheumatologists', 'British', 'Badminton', 'Fitness & Instruction', 'Poke', 'Eyewear & Opticians', 'Lounges', 'Middle Schools & High Schools', 'Lawn Services', 'Lice Services', 'attributes$CoatCheck', 'Souvenir Shops', 'attributes$Open24Hours', 'Delis', 'Landscape Architects', 'Gas Stations', 'Stucco Services', 'Food Delivery Services', 'Coffee & Tea', 'Shanghainese', 'Unofficial Yelp Events', 'Magicians', 'Flowers & Gifts', 'Bavarian', 'Props', 'Wine Tasting Classes', 'Books', 'Professional Services', 'Noodles', 'Basketball Courts', 'Smokehouse', 'Notaries', 'Lighting Fixtures & Equipment', 'Travel Agents', 'Cosmetic Dentists', 'Holiday Decorations', 'Organic Stores', 'Afghan', 'Bubble Soccer', 'Party Bike Rentals', 'Currency Exchange', 'Juice Bars & Smoothies', 'attributes$BusinessParking$street', 'Airsoft', 'Architects', 'Military Surplus', 'Pool & Hot Tub Service', 'Czech', 'Supernatural Readings', 'Brewpubs', 'Thai', 'Elementary Schools', 'Habilitative Services', 'Train Stations', 'Resorts', 'Car Buyers', 'Jails & Prisons', 'Halfway Houses', 'Street Art', 'attributes$GoodForMeal$dinner', 'Bagels', 'Tonkatsu', 'Ziplining', 'Gluten-Free', 'Taxis', 'attributes$HairSpecializesIn$straightperms', 'Motorcycle Rental', 'Cupcakes', 'Farm Equipment Repair', 'Country Dance Halls', 'Beer Hall', 'Eyebrow Services', 'Psychics', 'RV Parks', 'Shoe Repair', 'Furniture Repair', 'Art Restoration', 'Hair Salons', 'Drones', 'Bistros', 'Wallpapering', 'Food Court', 'Beer', 'Paint & Sip', 'Cheesesteaks', 'Memory Care', 'Pet Groomers', 'Bounce House Rentals', 'Skate Shops', 'Karate', 'Halal', 'Disability Law', 'Venues & Event Spaces', 'Safety Equipment', 'Tacos', 'Laundromat', 'Caricatures', 'Hunting & Fishing Supplies', 'Gymnastics', 'Legal Services', \"Men's Clothing\", 'Guest Houses', 'Brasseries', 'Rock Climbing', 'Estate Planning Law', 'African', 'latitude', 'Structural Engineers', 'Skin Care', 'attributes$RestaurantsDelivery', 'Pet Stores', 'hours$Sunday', 'Used', 'attributes$HasTV', 'Nicaraguan', 'Uniforms', 'Dumpster Rental', 'Playgrounds', 'Ice Delivery', 'Self Storage', 'Pet Adoption', 'Cannabis Dispensaries', 'Office Cleaning', 'Special Education', 'attributes$Ambience$intimate', 'Glass Blowing', 'Marketing', 'attributes$HairSpecializesIn$perms', 'Shaved Snow', 'Home Organization', 'Outlet Stores', 'Signature Cuisine', 'Community Centers', 'Nail Salons', 'Bubble Tea', 'attributes$Ambience$casual', 'hours$Tuesday', 'Gunsmith', 'Virtual Reality Centers', 'Courthouses', 'Thrift Stores', 'Vehicle Shipping', 'Accessories', 'Climbing', 'Tickets', 'Payroll Services', 'Placenta Encapsulations', 'Luggage', 'Middle Eastern', 'attributes$RestaurantsReservations', 'Prosthodontists', 'Osteopathic Physicians', 'Bird Shops', 'Maternity Wear', 'Fast Food', 'Excavation Services', 'Used Bookstore', 'Hot Dogs', 'attributes$GoodForMeal$brunch', 'Private Investigation', 'Brazilian Jiu-jitsu', 'Movers', 'Funeral Services & Cemeteries', 'Sports Clubs', 'Local Fish Stores', 'Basque', 'Club Crawl', 'Dog Walkers', 'Slovakian', 'Minho', 'Wholesale Stores', 'Skate Parks', 'Naturopathic/Holistic', 'Insurance', 'Heating & Air Conditioning/HVAC', 'Pharmacy', 'Blood & Plasma Donation Centers', 'Veterans Organizations', 'Clothing Rental', 'Awnings', 'Mongolian', 'Private Schools', 'Shutters', 'Pet Breeders', 'Floral Designers', 'Psychologists', 'Web Design', 'Shoe Stores', 'Opera & Ballet', 'Computers', 'Air Duct Cleaning', 'Axe Throwing', 'Bingo Halls', 'Mobility Equipment Sales & Services', 'Kids Hair Salons', 'Desserts', 'Dominican', 'Coffee & Tea Supplies', 'Pita', 'Costumes', 'Electronics Repair', 'Ceremonial Clothing', 'attributes$Ambience$touristy', 'Hair Removal', 'attributes$Ambience$classy', 'Cultural Center', 'Country Clubs', 'Aestheticians', 'Tobacco Shops', 'Television Service Providers', 'Driving Schools', 'Escape Games', 'Machine Shops', 'Home Window Tinting', 'Patisserie/Cake Shop', 'Castles', 'Fencing Clubs', 'Security Services', 'Yoga', 'University Housing', 'Market Stalls', 'Scottish', 'attributes$Music$no_music', 'Firearm Training', 'attributes$Corkage', 'Speakeasies', 'Barbers', 'Siding', 'Public Adjusters', 'DIY Auto Shop', 'Tennis', 'Water Stores', 'Immigration Law', 'Watch Repair', 'Fingerprinting', 'Discount Store', 'Bakeries', 'Videos & Video Game Rental', 'Farmers Market', 'Business Consulting', 'Pet Waste Removal', 'Trailer Repair', 'Medical Cannabis Referrals', 'Home & Rental Insurance', 'Barre Classes', 'Used Car Dealers', 'Furniture Assembly', 'Sleep Specialists', 'Traditional Chinese Medicine', 'Flowers', 'Music & Video', 'Syrian', 'Rotisserie Chicken', 'Distilleries', 'Radiologists', 'Health Markets', 'Video Game Stores', 'Chiropractors', 'Outdoor Furniture Stores', 'Scandinavian', 'Gun/Rifle Ranges', 'Life Coach', 'Pick Your Own Farms', 'Health Retreats', 'House Sitters', 'Commercial Real Estate', 'DUI Schools', 'Airport Terminals', 'Cocktail Bars'}\n"
     ]
    }
   ],
   "source": [
    "all_features = set(business_RDD.map(lambda x: extract_features(x)).flatMap(lambda x: x).collect())\n",
    "\n",
    "# remove useless features\n",
    "feats_to_remove = {'business_id', 'name', 'neighborhood', 'address', 'city', 'postal_code', 'hours', 'attributes'}\n",
    "all_features.difference_update(feats_to_remove)\n",
    "print(all_features)\n",
    "\n",
    "all_features = list(all_features)\n",
    "all_features.sort()"
   ]
  },
  {
   "cell_type": "code",
   "execution_count": 7,
   "id": "89e09426",
   "metadata": {},
   "outputs": [],
   "source": [
    "fhand = open('all_features.txt', 'w')\n",
    "for row in all_features:\n",
    "    fhand.writelines(row + '\\n')\n",
    "fhand.close()"
   ]
  },
  {
   "cell_type": "markdown",
   "id": "775aa0e7",
   "metadata": {},
   "source": [
    "# Get all unique values for all features for all businesses"
   ]
  },
  {
   "cell_type": "code",
   "execution_count": null,
   "id": "5b6bbc6f",
   "metadata": {},
   "outputs": [],
   "source": [
    "def get_feat_values(data_row):\n",
    "    \n",
    "    feat_value = defaultdict(set)\n",
    "    \n",
    "    for k,v in data_row.items():\n",
    "        if type(v) != dict:\n",
    "            # if it is categories, give it a value 1\n",
    "            if k == 'categories':\n",
    "                if v is not None:\n",
    "                    categories = v.split(',')\n",
    "                    for category in categories:\n",
    "                        feature_name = category.strip()\n",
    "                        feat_value[feature_name].add(1)\n",
    "            else:\n",
    "                feature_name = k.strip()\n",
    "                feat_value[feature_name].add(v)\n",
    "\n",
    "        else:\n",
    "            # if it is a dict then expand\n",
    "            for k2, v2 in v.items():\n",
    "                if v2[0] == '{' and v2[-1] == '}':\n",
    "                    # convert to dict\n",
    "                    v2 = ast.literal_eval(v2)\n",
    "\n",
    "                    for k3, v3 in v2.items():\n",
    "                        # use delimitter $ to rename feature\n",
    "                        feature_name = k + '$' + k2 + '$' + k3\n",
    "                        feature_name = feature_name.strip()\n",
    "\n",
    "                        feat_value[feature_name].add(v3)\n",
    "\n",
    "                else:\n",
    "                    # use delimitter $ to rename feature\n",
    "                    feature_name = k + '$' + k2\n",
    "                    feature_name = feature_name.strip()\n",
    "\n",
    "                    feat_value[feature_name].add(v2)\n",
    "        \n",
    "    return tuple(feat_value.items())"
   ]
  },
  {
   "cell_type": "code",
   "execution_count": null,
   "id": "e50cf213",
   "metadata": {},
   "outputs": [],
   "source": [
    "feature_vals = business_RDD.map(lambda x: get_feat_values(x)).flatMap(lambda x: x).reduceByKey(lambda x,y: x.union(y))\n",
    "\n"
   ]
  },
  {
   "cell_type": "code",
   "execution_count": null,
   "id": "574e0b48",
   "metadata": {},
   "outputs": [],
   "source": [
    "# create a dict of features to vals\n",
    "features_and_vals = {}\n",
    "for feat, val in feature_vals.collect():\n",
    "    features_and_vals[feat] = val\n",
    "\n",
    "# convert all features into a set and remove useless features and sort\n",
    "features_from_vals = set(features_and_vals.keys())\n",
    "feats_to_remove = {'business_id', 'name', 'neighborhood', 'address', 'city', 'postal_code', 'hours', 'attributes'}\n",
    "features_from_vals.difference_update(feats_to_remove)\n",
    "features_from_vals = list(features_from_vals)\n",
    "features_from_vals.sort()"
   ]
  },
  {
   "cell_type": "code",
   "execution_count": null,
   "id": "3df0df9c",
   "metadata": {},
   "outputs": [],
   "source": [
    "fhand = open('features_and_vals.txt', 'w')\n",
    "for k in features_from_vals:\n",
    "    fhand.writelines(k + ' : ' + str(list(features_and_vals[k])) + '\\n')\n",
    "fhand.close()"
   ]
  },
  {
   "cell_type": "markdown",
   "id": "90442fff",
   "metadata": {},
   "source": [
    "### After verifying all unique values for all features, there was no odd value"
   ]
  },
  {
   "cell_type": "code",
   "execution_count": 24,
   "id": "104f6a6a",
   "metadata": {},
   "outputs": [
    {
     "name": "stdout",
     "output_type": "stream",
     "text": [
      "13.0\n"
     ]
    }
   ],
   "source": [
    "from datetime import datetime, timedelta\n",
    "\n",
    "\n",
    "def convert_timings_to_hours(timing):\n",
    "    start_time, end_time = data.split('-')\n",
    "    start_time = datetime.strptime(start_time, '%H:%M')\n",
    "    end_time = datetime.strptime(end_time, '%H:%M')\n",
    "    time_diff = end_time - start_time\n",
    "    num_hours = time_diff.total_seconds() / 3600\n",
    "\n",
    "    if num_hours < 0:\n",
    "        num_hours = 24+num_hours\n",
    "\n",
    "    return num_hours"
   ]
  },
  {
   "cell_type": "code",
   "execution_count": null,
   "id": "753112d6",
   "metadata": {},
   "outputs": [],
   "source": []
  }
 ],
 "metadata": {
  "kernelspec": {
   "display_name": "Python 3",
   "language": "python",
   "name": "python3"
  },
  "language_info": {
   "codemirror_mode": {
    "name": "ipython",
    "version": 3
   },
   "file_extension": ".py",
   "mimetype": "text/x-python",
   "name": "python",
   "nbconvert_exporter": "python",
   "pygments_lexer": "ipython3",
   "version": "3.6.13"
  }
 },
 "nbformat": 4,
 "nbformat_minor": 5
}
