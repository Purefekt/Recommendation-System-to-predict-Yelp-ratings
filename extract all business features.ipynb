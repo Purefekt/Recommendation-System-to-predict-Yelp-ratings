{
 "cells": [
  {
   "cell_type": "code",
   "execution_count": 1,
   "id": "e709b345",
   "metadata": {},
   "outputs": [],
   "source": [
    "from pyspark.context import SparkContext\n",
    "import json\n",
    "from datetime import datetime\n",
    "import pytz\n",
    "from xgboost import XGBRegressor\n",
    "import time\n",
    "import sys\n",
    "import ast\n",
    "from collections import defaultdict"
   ]
  },
  {
   "cell_type": "code",
   "execution_count": 2,
   "id": "b6fdd073",
   "metadata": {},
   "outputs": [],
   "source": [
    "sc = SparkContext()\n",
    "sc.setLogLevel('ERROR')"
   ]
  },
  {
   "cell_type": "code",
   "execution_count": 3,
   "id": "f389420d",
   "metadata": {},
   "outputs": [],
   "source": [
    "FOLDER_PATH = '/Users/veersingh/Desktop/competition_files/'\n",
    "TESTING_FILE_PATH = '/Users/veersingh/Desktop/competition_files/yelp_val.csv'\n",
    "OUTPUT_FILE_PATH = '/Users/veersingh/Desktop/Recommendation-System-to-predict-Yelp-ratings/output.csv'\n",
    "\n",
    "TRAIN_FILE_PATH = FOLDER_PATH + 'yelp_train.csv'\n",
    "BUSINESS_FILE_PATH = FOLDER_PATH + 'business.json'\n",
    "CHECKIN_FILE_PATH = FOLDER_PATH + 'checkin.json'\n",
    "PHOTO_FILE_PATH = FOLDER_PATH + 'photo.json'\n",
    "TIP_FILE_PATH = FOLDER_PATH + 'tip.json'\n",
    "USER_FILE_PATH = FOLDER_PATH + 'user.json'"
   ]
  },
  {
   "cell_type": "code",
   "execution_count": 4,
   "id": "9932ff82",
   "metadata": {},
   "outputs": [],
   "source": [
    "business_RDD = sc.textFile(BUSINESS_FILE_PATH).map(lambda x: json.loads(x))"
   ]
  },
  {
   "cell_type": "markdown",
   "id": "07b8cc6c",
   "metadata": {},
   "source": [
    "# Get all the unique features from all businesses in training data"
   ]
  },
  {
   "cell_type": "code",
   "execution_count": 5,
   "id": "c7850fe9",
   "metadata": {},
   "outputs": [],
   "source": [
    "def extract_features(data_row):\n",
    "    \n",
    "    features = set()\n",
    "    \n",
    "    for k,v in data_row.items():\n",
    "        if type(v) != dict:   \n",
    "            # if it is a categories, create a separate feature for each category\n",
    "            if k == 'categories':\n",
    "                if v is not None:\n",
    "                    categories = v.split(',')\n",
    "                    for category in categories:\n",
    "                        features.add(category.strip())\n",
    "            else:\n",
    "                features.add(k.strip())\n",
    "            \n",
    "        else:\n",
    "            # if it is a dict then expand\n",
    "            for k2, v2 in v.items():\n",
    "                if v2[0] == '{' and v2[-1] == '}':\n",
    "                    # convert to dict\n",
    "                    v2 = ast.literal_eval(v2)\n",
    "                    \n",
    "                    for k3,v3 in v2.items():\n",
    "                        # use delimitter $ to rename\n",
    "                        feature_name = k + '$' + k2 + '$' + k3\n",
    "                        features.add(feature_name.strip())\n",
    "                else:\n",
    "                    # use delimitter $ to rename\n",
    "                    feature_name = k + '$' + k2\n",
    "                    features.add(feature_name.strip())\n",
    "        \n",
    "    return features"
   ]
  },
  {
   "cell_type": "code",
   "execution_count": 6,
   "id": "e47b4437",
   "metadata": {},
   "outputs": [
    {
     "name": "stdout",
     "output_type": "stream",
     "text": [
      "{'Buddhist Temples', 'Department Stores', 'Outlet Stores', 'Paint Stores', 'attributes$BusinessAcceptsCreditCards', 'Vocal Coach', 'Fish & Chips', 'Indoor Playcentre', 'Printing Services', 'Beverage Store', 'Pet Insurance', 'attributes$BusinessAcceptsBitcoin', 'Duplication Services', 'Business Financing', 'attributes$RestaurantsTakeOut', 'hours$Friday', 'Screen Printing', 'Vintage & Consignment', 'Dermatologists', 'Breweries', 'Pediatricians', 'Cheesesteaks', 'Data Recovery', 'Misting System Services', 'Dry Cleaning & Laundry', 'Comic Books', 'Matchmakers', 'Tattoo Removal', 'Medical Supplies', 'Wallpapering', 'Home Network Installation', 'Chiropractors', 'Graphic Design', 'Bus Tours', 'Furniture Repair', 'Mediators', 'Head Shops', 'Nursing Schools', 'Wine Tasting Room', 'Oxygen Bars', 'Mailbox Centers', 'Ethnic Food', 'Towing', 'Middle Schools & High Schools', 'Artificial Turf', 'Veterans Organizations', 'attributes$DogsAllowed', 'Hungarian', 'Flowers & Gifts', 'Neurotologists', 'Boat Charters', 'Naturopathic/Holistic', 'Psychics', 'DUI Schools', 'Transmission Repair', 'Country Dance Halls', 'Bangladeshi', 'Traffic Schools', 'Photography Stores & Services', 'Carousels', 'Churches', 'Honduran', 'Circuit Training Gyms', 'Dive Shops', 'Podiatrists', 'Chinese', 'Shaved Snow', 'American (Traditional)', 'Golf Lessons', 'Divorce & Family Law', 'Wheel & Rim Repair', 'Carpet Cleaning', 'Free Diving', 'attributes$OutdoorSeating', 'Food Court', 'Specialty Schools', 'Hotels & Travel', 'attributes$Ambience$trendy', 'Holiday Decorations', 'Auto Repair', 'Kebab', 'Baby Gear & Furniture', 'Hospice', 'Health & Medical', 'attributes$BestNights$wednesday', 'Art Tours', 'Bubble Tea', 'Grilling Equipment', 'attributes$Alcohol', 'Midwives', 'Visitor Centers', 'attributes$Ambience$classy', 'Bookstores', 'Jazz & Blues', 'Vocational & Technical School', 'Scooter Tours', 'Home Staging', 'Courthouses', 'Candy Stores', 'Real Estate Photography', 'attributes$GoodForKids', 'Laser Hair Removal', 'Religious Items', 'Marketing', 'Tattoo', 'Ukrainian', 'Ethnic Grocery', 'Team Building Activities', 'Pick Your Own Farms', 'Fishmonger', 'Tea Rooms', 'Lounges', 'Mongolian', 'Financial Services', 'Talent Agencies', 'Speakeasies', 'Court Reporters', 'Spin Classes', 'Pet Stores', 'Mass Media', 'Nail Technicians', 'Private Tutors', 'Furniture Reupholstery', 'Supernatural Readings', 'Strip Clubs', 'Dominican', 'Air Duct Cleaning', 'Shredding Services', 'Vehicle Wraps', 'Airsoft', 'Sport Equipment Hire', 'Tapas/Small Plates', 'Educational Services', 'Massage', 'Vacation Rental Agents', 'Chilean', 'Hazardous Waste Disposal', 'Macarons', 'Laser Tag', 'Post Offices', 'Sri Lankan', 'Carpet Dyeing', 'Opera & Ballet', 'Themed Cafes', 'Homeowner Association', 'Popcorn Shops', 'Slovakian', 'Workers Compensation Law', 'EV Charging Stations', 'Bike Repair/Maintenance', 'Jails & Prisons', 'Placenta Encapsulations', 'Private Investigation', 'Bicycles', 'Business Consulting', 'Couriers & Delivery Services', 'Funeral Services & Cemeteries', 'Pool Cleaners', 'Special Education', 'Fertility', 'attributes$WheelchairAccessible', 'Spiritual Shop', 'Paintball', 'RV Dealers', 'attributes$HasTV', 'Island Pub', 'High Fidelity Audio Equipment', 'Pet Waste Removal', 'Bike Repair', 'Professional Sports Teams', 'hours$Tuesday', 'Brazilian Jiu-jitsu', 'Foundation Repair', 'Acupuncture', 'attributes$BYOBCorkage', 'attributes$BikeParking', 'Traditional Chinese Medicine', 'Ear Nose & Throat', 'Blood & Plasma Donation Centers', 'Junk Removal & Hauling', \"Children's Museums\", 'Siding', 'Swimwear', 'Pole Dancing Classes', 'Hockey Equipment', 'attributes$DietaryRestrictions$dairy-free', 'Shades & Blinds', 'Boat Dealers', 'Windows Installation', 'Henna Artists', 'attributes$DietaryRestrictions$soy-free', 'Hakka', 'Car Buyers', 'attributes$WiFi', 'Taiwanese', 'Party Characters', \"Children's Clothing\", 'Cannabis Tours', 'Meditation Centers', 'Test Preparation', 'Fashion', 'Outdoor Movies', 'Petting Zoos', 'Cigar Bars', 'Immunodermatologists', 'Beaches', 'Fuel Docks', 'Hair Extensions', 'Motorsport Vehicle Repairs', 'Ticket Sales', 'Damage Restoration', 'Diners', 'Unofficial Yelp Events', 'Lawn Services', 'Train Stations', 'Marinas', 'Salvadoran', 'Weight Loss Centers', 'Kickboxing', 'Bookbinding', 'Doctors', 'Brewing Supplies', 'Editorial Services', 'Police Departments', 'Piano Bars', 'attributes$HairSpecializesIn$curly', 'Pressure Washers', 'Well Drilling', 'Travel Agents', 'Piano Services', 'Waxing', 'attributes$Ambience$hipster', 'Orthopedists', 'Bike tours', 'Limos', 'Scandinavian', 'Feng Shui', 'German', 'Emergency Rooms', 'Dry Cleaning', 'Boat Repair', 'Tableware', 'Auto Upholstery', 'Outdoor Gear', 'Decks & Railing', 'College Counseling', 'Behavior Analysts', 'Countertop Installation', 'Walking Tours', 'Advertising', 'Commercial Truck Repair', 'Hawaiian', 'Singaporean', 'Pool & Hot Tub Service', 'Smog Check Stations', 'Golf Equipment Shops', 'Demolition Services', 'Haunted Houses', 'DJs', 'hours$Sunday', 'Boot Camps', 'Fireworks', 'Hospitals', 'Lighting Stores', 'Sports Medicine', 'Lingerie', 'Massage Schools', 'Challenge Courses', 'Rodeo', 'Registry Office', 'Permanent Makeup', 'Tacos', 'Landscaping', 'CSA', 'Wine Tours', 'Optometrists', 'Motorcycle Rental', 'Automotive', 'Scooter Rentals', 'Valet Services', 'Sleep Specialists', 'Fingerprinting', 'General Litigation', 'attributes$HairSpecializesIn$perms', 'Hot Tub & Pool', 'Appliances', 'Payroll Services', 'Farmers Market', 'is_open', 'Shopping', 'Paint & Sip', 'Aerial Fitness', 'Sushi Bars', 'Knife Sharpening', 'Water Parks', 'Signature Cuisine', 'Hearing Aid Providers', 'Trainers', 'Professional Services', 'Historical Tours', 'Race Tracks', 'Thrift Stores', 'Architectural Tours', 'Breakfast & Brunch', 'Alternative Medicine', 'Fitness/Exercise Equipment', 'Sandwiches', 'Wedding Planning', 'Party Supplies', 'Pawn Shops', 'Preschools', 'Persian/Iranian', 'Disability Law', 'Spray Tanning', 'Fabric Stores', 'Bespoke Clothing', 'Plastic Surgeons', 'Bike Rentals', 'Montessori Schools', 'Himalayan/Nepalese', 'Appraisal Services', 'Medical Transportation', 'Pool & Billiards', 'Childbirth Education', 'Lighting Fixtures & Equipment', 'Periodontists', 'Karaoke', 'Neurologist', 'Food Tours', 'Dance Wear', 'hours$Monday', 'Sicilian', 'African', 'Roadside Assistance', 'Airport Terminals', 'Interior Design', 'Bakeries', 'Astrologers', 'Mortuary Services', 'Mags', 'Psychologists', 'attributes$Music$video', 'Adult Entertainment', 'Egyptian', 'Chocolatiers & Shops', 'Christmas Markets', 'Cafes', 'Criminal Defense Law', 'Mobile Phone Accessories', 'Tires', 'Maternity Wear', 'Event Photography', 'LAN Centers', 'Sex Therapists', 'Eastern European', 'Pet Services', 'Office Equipment', 'Rolfing', 'Gunsmith', 'Flowers', 'Hats', 'Cosmetic Dentists', 'Family Practice', 'Argentine', 'attributes$GoodForMeal$breakfast', 'Radiologists', 'Toy Stores', 'Community Centers', 'Kitchen Supplies', 'Donuts', 'Banks & Credit Unions', 'Pet Sitting', 'Mortgage Lenders', 'Russian', 'Parenting Classes', 'Tempura', 'Reflexology', 'Music Venues', 'Pest Control', 'Videos & Video Game Rental', 'Peruvian', 'Health Markets', 'Performing Arts', 'Public Services & Government', 'Teppanyaki', 'Plumbing', 'Drive-In Theater', 'Physical Therapy', 'Drones', 'Medical Law', 'Traditional Norwegian', 'Auto Electric Services', 'Mattresses', 'Ski & Snowboard Shops', 'Bus Rental', 'Pet Photography', 'Salad', 'Restaurants', 'Ski Schools', 'Donairs', 'Movers', 'Gerontologists', 'latitude', 'Middle Eastern', 'Tenant and Eviction Law', 'Axe Throwing', 'attributes$Music$dj', 'Squash', 'Bartending Schools', 'attributes$Ambience$intimate', 'Immigration Law', 'Mobile Home Dealers', 'Basque', 'Balloon Services', 'Archery', 'Septic Services', 'Vinyl Records', 'Water Suppliers', 'Real Estate Law', 'Diagnostic Services', 'Herbs & Spices', 'Latin American', 'Heating & Air Conditioning/HVAC', 'Dim Sum', 'Cinema', 'Conveyor Belt Sushi', 'Awnings', 'Boudoir Photography', 'Tapas Bars', 'Arabian', 'Metal Fabricators', 'Video Game Stores', 'Glass & Mirrors', 'Calligraphy', 'Health Coach', 'Noodles', 'attributes$DietaryRestrictions$halal', 'attributes$DriveThru', 'Gardeners', 'Auto Insurance', 'Installment Loans', 'Embroidery & Crochet', 'Bikes', 'Home & Garden', 'Piercing', 'Auto Loan Providers', 'Italian', 'Commercial Truck Dealers', 'New Mexican Cuisine', 'International', 'Whiskey Bars', 'Irish Pub', 'Bar Crawl', 'Nanny Services', 'Kitchen & Bath', 'Auction Houses', 'Wine Bars', 'Hypnosis/Hypnotherapy', 'Cosmetic Surgeons', 'Campgrounds', 'Rheumatologists', 'Proctologists', 'attributes$BusinessParking$street', 'Shanghainese', 'Vape Shops', 'Serbo Croatian', 'Retirement Homes', 'Thai', 'Food Trucks', 'Environmental Testing', 'Olive Oil', 'Medical Spas', 'Passport & Visa Services', 'Veterinarians', 'Pensions', 'Smokehouse', 'Doulas', 'Hotels', 'Livestock Feed & Supply', 'Walk-in Clinics', 'Beer Tours', 'Izakaya', 'Community Gardens', 'Hainan', 'attributes$RestaurantsReservations', 'Observatories', 'attributes$Ambience$casual', 'Interval Training Gyms', 'Print Media', 'Masonry/Concrete', 'Commercial Real Estate', 'Appliances & Repair', 'Wineries', 'attributes$Smoking', 'attributes$AcceptsInsurance', 'Skiing', 'Electricity Suppliers', 'Generator Installation/Repair', 'Real Estate Agents', 'hours$Saturday', 'Floral Designers', 'Tobacco Shops', 'Chicken Shop', 'Hardware Stores', 'Travel Services', 'attributes$GoodForMeal$lunch', 'Coffeeshops', 'Indoor Landscaping', 'Car Window Tinting', 'attributes$Caters', 'Canadian (New)', 'Brewpubs', 'Hot Air Balloons', 'Pet Adoption', 'Art Museums', 'Cheese Tasting Classes', 'Concierge Medicine', 'Gastroenterologist', 'Delicatessen', 'Psychic Mediums', 'Boat Tours', 'Civic Center', 'attributes$GoodForMeal$brunch', 'Mobile Dent Repair', 'Patio Coverings', \"Men's Clothing\", 'Trophy Shops', 'Scuba Diving', 'Endocrinologists', 'stars', 'attributes$BYOB', 'Screen Printing/T-Shirt Printing', 'Chicken Wings', 'Music & Video', 'General Dentistry', 'Public Transportation', 'Parks', 'Trailer Rental', 'Motorcycle Repair', 'Pet Groomers', 'Fur Clothing', 'Palatine', 'Luggage Storage', 'Casinos', 'Tanning', 'Sailing', 'Christmas Trees', 'Ophthalmologists', 'Japanese Sweets', 'Security Services', 'Departments of Motor Vehicles', 'Waldorf Schools', 'Cocktail Bars', 'Rehabilitation Center', 'Commissioned Artists', 'Saunas', 'Urgent Care', 'Bookkeepers', 'attributes$Corkage', 'Golf Equipment', 'Acne Treatment', 'Sports Wear', 'Memory Care', 'Interlock Systems', 'Colleges & Universities', 'South African', 'Reiki', 'Hydrotherapy', 'Ramen', 'Bulgarian', 'Haitian', 'Accountants', 'Teeth Whitening', 'Cardiologists', 'attributes$RestaurantsGoodForGroups', 'Metro Stations', 'Tree Services', 'Coffee & Tea', 'Eatertainment', 'Check Cashing/Pay-day Loans', 'Arcades', 'Street Art', 'Imported Food', 'Community Service/Non-Profit', 'Flooring', 'Videographers', 'Props', 'Halotherapy', 'Guitar Stores', 'Contractors', 'Taekwondo', 'Tasting Classes', 'Gastropubs', 'attributes$BestNights$saturday', 'Electricians', 'Southern', 'attributes$RestaurantsPriceRange2', 'Surgeons', 'Personal Shopping', 'Amateur Sports Teams', 'Apartments', 'Contract Law', 'Private Schools', 'Bird Shops', 'Spanish', 'Sports Clubs', 'Magicians', 'Iberian', 'Do-It-Yourself Food', 'Public Art', 'Oil Change Stations', 'Nephrologists', 'Hobby Shops', 'Toxicologists', 'Drywall Installation & Repair', 'Car Dealers', 'Creperies', 'Wildlife Hunting Ranges', 'Body Shops', 'Poke', 'Rafting/Kayaking', 'Party Bus Rentals', 'Caricatures', 'attributes$Ambience$upscale', 'Self Storage', 'attributes$Music$background_music', 'Leisure Centers', 'Internet Cafes', 'Czech', 'Ice Cream & Frozen Yogurt', 'Modern European', 'Swimming Lessons/Schools', 'Cycling Classes', 'Wholesale Stores', 'Orthodontists', 'Aircraft Dealers', 'Customs Brokers', 'Beauty & Spas', 'Estate Liquidation', 'Packing Services', 'Town Car Service', 'Skilled Nursing', 'Event Planning & Services', 'Pet Boarding', 'Waffles', 'DIY Auto Shop', 'Beach Bars', 'Barbers', 'Motorsport Vehicle Dealers', 'Fire Departments', 'Arts & Entertainment', 'Dance Clubs', 'Golf Cart Rentals', 'Rest Stops', 'Entertainment Law', 'Castles', 'Basketball Courts', 'Cooking Classes', 'Window Washing', 'attributes$HairSpecializesIn$asian', 'Polish', 'Safety Equipment', 'Dinner Theater', 'Cajun/Creole', 'Shoe Stores', 'Gun/Rifle Ranges', 'Ceremonial Clothing', 'Car Rental', 'Home Organization', 'Traffic Ticketing Law', 'Musicians', 'Lice Services', 'Ski Resorts', 'Title Loans', 'Home & Rental Insurance', 'Cantonese', 'attributes$DietaryRestrictions$vegan', 'Body Contouring', 'Infectious Disease Specialists', 'Airports', 'Cryotherapy', 'Ethiopian', 'Endodontists', 'Sports Bars', 'Internet Service Providers', 'Botanical Gardens', 'Vitamins & Supplements', 'Elementary Schools', 'attributes$HairSpecializesIn$straightperms', 'Pop-Up Restaurants', 'Udon', 'Drugstores', 'Hostels', 'Local Services', 'Champagne Bars', 'Gelato', 'Grout Services', 'attributes$Ambience$divey', 'Auto Security', 'Shutters', 'Vegetarian', 'Seafood Markets', 'Malaysian', 'Water Heater Installation/Repair', 'Bowling', 'Dumpster Rental', 'Real Estate', 'Pet Hospice', 'Farming Equipment', 'Beer Garden', 'Language Schools', 'Keys & Locksmiths', 'Synagogues', 'Occupational Therapy', 'Hair Stylists', 'Oncologist', 'Organic Stores', 'Yoga', 'Assisted Living Facilities', 'Furniture Rental', 'Social Clubs', 'Osteopaths', 'French', 'Oral Surgeons', 'Burgers', 'Fireplace Services', 'Dog Walkers', 'First Aid Classes', 'Teacher Supplies', 'Active Life', 'Stadiums & Arenas', 'Cooking Schools', 'Escape Games', 'Game Meat', 'Races & Competitions', 'Uniforms', 'Clowns', 'Nurseries & Gardening', 'TV Mounting', 'RV Parks', 'Allergists', 'Waterproofing', 'Video/Film Production', 'Computers', 'Badminton', 'Propane', 'Laundry Services', 'Session Photography', 'Candle Stores', 'Officiants', 'Distilleries', 'Guns & Ammo', 'Climbing', 'Emergency Medicine', 'Pub Food', 'Dance Studios', 'Halal', 'attributes$AgesAllowed', 'Fitness & Instruction', 'Fondue', 'Health Retreats', 'Portuguese', 'Pasta Shops', 'Pilates', 'Aviation Services', 'Colombian', 'attributes$GoodForMeal$dinner', 'Cannabis Collective', 'Syrian', 'attributes$BestNights$thursday', 'Watch Repair', 'Furniture Stores', 'Nudist', 'Duty-Free Shops', 'Afghan', 'IP & Internet Law', 'Condominiums', 'Bounce House Rentals', 'Cupcakes', 'attributes$Ambience$romantic', 'Landscape Architects', 'Leather Goods', 'Puerto Rican', \"Women's Clothing\", 'Beer Gardens', 'Japanese', 'Outdoor Furniture Stores', 'Bubble Soccer', 'Electronics Repair', 'Attraction Farms', 'attributes$BestNights$tuesday', 'Social Security Law', 'Bail Bondsmen', 'hours$Thursday', 'Drive-Thru Bars', 'Mobile Home Parks', 'Tex-Mex', 'Soba', 'Adult', 'Employment Law', 'Home Cleaning', 'Soul Food', 'Cabinetry', 'American (New)', 'Auto Customization', 'Flea Markets', 'Landmarks & Historical Buildings', 'attributes$GoodForMeal$dessert', 'Rock Climbing', 'Czech/Slovakian', 'Land Surveying', 'Game Truck Rental', 'Dive Bars', 'Farms', 'Employment Agencies', 'Excavation Services', 'attributes$HappyHour', 'Prenatal/Perinatal Care', 'Translation Services', 'Architects', 'Amusement Parks', 'Stucco Services', 'Cheerleading', 'Watches', 'Currency Exchange', 'Float Spa', 'Cuban', 'Used', 'Asian Fusion', 'Gutter Services', 'Packing Supplies', 'Food Stands', 'Tabletop Games', 'longitude', 'Cambodian', 'Juice Bars & Smoothies', 'Shoe Shine', 'Trampoline Parks', 'Go Karts', 'Motorcycle Dealers', 'Musical Instruments & Teachers', 'Diving', 'Scottish', 'Trailer Dealers', 'Party & Event Planning', 'Retina Specialists', 'Surf Schools', 'Hunting & Fishing Supplies', 'attributes$DietaryRestrictions$kosher', 'Pedicabs', 'Trivia Hosts', 'Undersea/Hyperbaric Medicine', 'Carpeting', 'Pulmonologist', 'Chimney Sweeps', 'attributes$HairSpecializesIn$coloring', 'Colonics', 'RV Repair', 'attributes$GoodForMeal$latenight', 'Art Space Rentals', 'Kitchen Incubators', 'attributes$BusinessParking$garage', 'Public Relations', 'University Housing', 'Ranches', 'Office Cleaning', 'Hair Removal', 'Art Galleries', 'Surf Shop', 'Skating Rinks', 'Wedding Chapels', 'Medical Foot Care', 'DUI Law', 'Grocery', 'Baguettes', 'Auto Detailing', 'Dog Parks', 'Fast Food', 'Musical Instrument Services', 'Cards & Stationery', 'Used Bookstore', 'Beer', 'Hybrid Car Repair', 'Fishing', 'Bavarian', 'Embassy', 'Personal Care Services', 'Adoption Services', 'Holistic Animal Care', 'Signmaking', 'Orthotics', 'Customized Merchandise', 'Auto Parts & Supplies', 'Elder Care Planning', 'Public Markets', 'Education', 'IT Services & Computer Repair', 'Paint-Your-Own Pottery', 'Burmese', 'Hearing Aids', 'Cremation Services', 'attributes$RestaurantsCounterService', 'Belgian', 'Florists', 'Backflow Services', 'Milkshake Bars', 'Erotic Massage', 'Restaurant Supplies', 'Anesthesiologists', 'Car Stereo Installation', 'Spine Surgeons', 'Powder Coating', 'Pubs', 'Used Car Dealers', 'Surfing', 'Threading Services', 'Mosques', 'attributes$RestaurantsTableService', 'Filipino', 'Sports Psychologists', 'Martial Arts', 'Armenian', 'Shipping Centers', 'Barbeque', 'attributes$BestNights$friday', 'Australian', 'Laotian', 'Investing', 'Newspapers & Magazines', 'Rotisserie Chicken', 'Pizza', 'Obstetricians & Gynecologists', 'Indian', 'Garage Door Services', 'Laser Eye Surgery/Lasik', 'Tanning Beds', 'Boat Parts & Supplies', 'Life Coach', 'Custom Cakes', 'Digitizing Services', 'Hot Dogs', 'Golf', 'Battery Stores', 'Concept Shops', 'Moroccan', 'Wigs', 'Butcher', 'Luggage', 'Buses', 'attributes$DietaryRestrictions$vegetarian', 'Machine & Tool Rental', 'Cosmetology Schools', 'Falafel', 'Home Developers', 'Skydiving', 'Registration Services', 'Mobility Equipment Sales & Services', 'Venezuelan', 'attributes$BusinessParking$validated', 'Animal Shelters', 'Baseball Fields', 'Town Hall', 'Brazilian', 'Television Stations', 'Pan Asian', 'Pumpkin Patches', 'Korean', 'Vegan', 'Golf Cart Dealers', 'Driving Schools', 'Structural Engineers', 'Farm Equipment Repair', 'Car Wash', 'Lebanese', 'Street Vendors', 'Costumes', 'Nail Salons', 'Airport Shuttles', 'Barre Classes', 'Books', 'Private Jet Charter', 'Ice Delivery', 'Habilitative Services', 'Debt Relief Services', 'Makeup Artists', 'Boating', 'Trains', 'Prosthetics', 'Live/Raw Food', 'Planetarium', 'attributes$Open24Hours', 'Hang Gliding', 'Carpenters', 'Estate Planning Law', 'Recording & Rehearsal Studios', 'Parking', 'Animal Assisted Therapy', 'Home Window Tinting', 'Backshop', 'Party Equipment Rentals', 'Gyms', 'Eyelash Service', 'Public Adjusters', 'Plus Size Fashion', 'Fences & Gates', 'Junkyards', 'Car Brokers', 'Recreation Centers', 'Gay Bars', 'Empanadas', 'Childproofing', 'Sledding', 'attributes$NoiseLevel', 'Pool Halls', 'Prosthodontists', 'Wraps', 'Furniture Assembly', 'Reptile Shops', 'Local Fish Stores', 'Cosmetics & Beauty Supply', 'Rugs', 'Pet Transportation', 'International Grocery', 'Striptease Dancers', 'Estheticians', 'Bagels', 'Art Supplies', 'Lactation Services', 'Churros', 'Personal Chefs', 'Beer Bar', 'Tennis', 'attributes$DietaryRestrictions$gluten-free', 'Sauna Installation & Repair', 'CPR Classes', 'Acai Bowls', 'Tours', 'Pediatric Dentists', 'Art Restoration', 'Tax Law', 'Vietnamese', 'Aquarium Services', 'Natural Gas Suppliers', 'Mediterranean', 'Service Stations', 'Gluten-Free', 'IV Hydration', 'RV Rental', 'ATV Rentals/Tours', 'attributes$Music$karaoke', 'Product Design', 'Glass Blowing', 'Machine Shops', 'Notaries', 'Art Classes', 'Cannabis Clinics', 'Flyboarding', 'Vehicle Shipping', 'Coffee Roasteries', 'attributes$BusinessParking$lot', 'Hiking', 'Sporting Goods', 'Cannabis Dispensaries', 'Shared Office Spaces', 'Car Share Services', 'Wine Tasting Classes', 'Sugaring', 'Wine & Spirits', 'Car Inspectors', 'Soccer', 'Water Delivery', 'attributes$RestaurantsAttire', 'Hot Pot', 'Hydro-jetting', 'Festivals', 'Party Bike Rentals', 'Insulation Installation', 'Lawyers', 'Swimming Pools', 'Food Delivery Services', 'Market Stalls', 'attributes$HairSpecializesIn$kids', 'Comedy Clubs', 'Legal Services', 'attributes$BestNights$sunday', 'Hepatologists', 'Cardio Classes', 'Senior Centers', 'Gift Shops', 'Racing Experience', 'Preventive Medicine', 'Swiss Food', 'Pakistani', 'Playgrounds', 'Club Crawl', 'Sunglasses', 'Makerspaces', 'Venues & Event Spaces', 'Home Health Care', 'Adult Education', 'Mobile Phones', 'Photographers', 'Bankruptcy Law', 'Carpet Installation', 'attributes$CoatCheck', 'Honey', 'Caribbean', 'Hong Kong Style Cafe', 'Dietitians', 'Emergency Pet Hospital', 'Windshield Installation & Repair', 'Career Counseling', 'Zoos', 'Greek', 'Pet Breeders', 'Home Automation', 'Jet Skis', 'attributes$HairSpecializesIn$extensions', 'Property Management', 'Tax Services', 'Experiences', 'Psychiatrists', 'Mauritius', 'Phlebologists', 'Counseling & Mental Health', 'Day Spas', 'Ziplining', 'Addiction Medicine', 'Trinidadian', 'Meat Shops', 'Refinishing Services', 'Local Flavor', 'Transportation', 'Clothing Rental', 'Caterers', 'Internal Medicine', 'Crane Services', 'Hair Loss Centers', 'Car Auctions', 'Day Camps', 'Face Painting', 'Insurance', 'Tutoring Centers', 'Cideries', 'Storefront Clinics', 'Traditional Clothing', 'Mountain Biking', 'Seafood', 'Tiki Bars', 'Audiologist', 'Patent Law', 'Irish', 'Szechuan', 'review_count', 'Buffets', 'Painters', 'Pretzels', 'Batting Cages', 'Utilities', 'Kombucha', 'Environmental Abatement', 'Skate Shops', 'Turkish', 'Otologists', 'Japanese Curry', 'Arts & Crafts', 'Supper Clubs', 'Gold Buyers', 'Water Stores', 'Knitting Supplies', 'Bed & Breakfast', 'Kids Hair Salons', 'Electronics', 'Wholesalers', 'Mobile Home Repair', 'Yelp Events', 'Accessories', 'Guest Houses', 'Wildlife Control', 'Urologists', 'Photo Booth Rentals', 'Eyebrow Services', 'Religious Organizations', 'Coffee & Tea Supplies', 'Fruits & Veggies', 'Diagnostic Imaging', 'Laundromat', 'Gymnastics', 'Wills', 'Ethical Grocery', 'Sugar Shacks', 'attributes$Music$no_music', 'Virtual Reality Centers', 'Disc Golf', 'Mobile Phone Repair', 'Skate Parks', 'Fire Protection Services', 'Roofing', 'Billing Services', 'Health Insurance Offices', 'Horse Equipment Shops', 'Guamanian', 'Vascular Medicine', 'Mexican', 'Soup', 'Dental Hygienists', 'Tubing', 'attributes$BestNights$monday', 'Clock Repair', 'Shoe Repair', 'Pet Training', 'Steakhouses', 'Massage Therapy', 'Real Estate Services', 'Beach Equipment Rentals', 'Food Banks', 'Pharmacy', 'Nutritionists', 'Business Law', 'Aircraft Repairs', 'Framing', 'Municipality', 'Hotel bar', 'Poutineries', 'Bartenders', 'Herbal Shops', 'Pet Cremation Services', 'Ayurveda', 'Door Sales/Installation', 'Resorts', 'Trailer Repair', 'Cheese Shops', 'Trusts', 'Music Production Services', 'Music & DVDs', 'Neuropathologists', 'Specialty Food', 'House Sitters', 'Playsets', 'Horse Boarding', 'Chinese Martial Arts', 'attributes$BusinessParking$valet', 'Homeless Shelters', 'Television Service Providers', 'Religious Schools', 'Summer Camps', 'Financial Advising', 'Medical Cannabis Referrals', 'Dialysis Clinics', 'Firewood', 'Senegalese', 'Austrian', 'Taxis', 'Engraving', 'Bike Sharing', 'Blow Dry/Out Services', 'Cultural Center', 'Sandblasting', 'Home Services', 'Gas Stations', 'Tickets', 'Snow Removal', 'state', 'Patisserie/Cake Shop', 'Mini Golf', 'Solar Installation', 'Reunion', 'Dentists', 'Tonkatsu', 'Libraries', 'attributes$ByAppointmentOnly', 'Medical Centers', 'Halfway Houses', 'Hookah Bars', 'Bridal', 'Nightlife', 'Food', 'British', 'Brasseries', 'Truck Rental', 'Radio Stations', 'Airport Lounges', 'Auto Glass Services', 'Tui Na', 'Holiday Decorating Services', 'hours$Wednesday', 'Antiques', 'Convenience Stores', 'Life Insurance', 'Photography Classes', 'Home Decor', 'Qi Gong', 'Fencing Clubs', 'Vacation Rentals', 'Karate', 'Kosher', 'Horseback Riding', 'Bistros', 'attributes$Ambience$touristy', 'Telecommunications', 'Personal Assistants', 'Cabaret', 'Pita', 'Military Surplus', 'Donation Center', 'Aestheticians', 'Eyewear & Opticians', 'attributes$Music$jukebox', 'Lakes', 'Formal Wear', 'Home Energy Auditors', 'Software Development', 'Audio/Visual Equipment Rental', 'Firearm Training', 'Horse Racing', 'Sewing & Alterations', 'Building Supplies', 'Country Clubs', '& Probates', 'Motorcycle Gear', 'Shaved Ice', 'Osteopathic Physicians', 'Tai Chi', 'Nurse Practitioner', 'Cafeteria', 'Nicaraguan', 'Pop-up Shops', 'Bars', 'Recycling Center', 'Tiling', 'Beach Volleyball', 'Discount Store', 'attributes$RestaurantsDelivery', 'Apartment Agents', 'Hindu Temples', 'Bingo Halls', 'Speech Therapists', 'Beer Hall', 'Delis', 'Personal Injury Law', 'Comfort Food', 'attributes$Music$live', 'Pathologists', 'Hair Salons', 'Security Systems', \"Men's Hair Salons\", 'Hydroponics', 'Bike Shop', 'attributes$GoodForDancing', 'Pain Management', 'Home Theatre Installation', 'Process Servers', 'Aerial Tours', 'Indonesian', 'Shopping Centers', 'attributes$HairSpecializesIn$africanamerican', 'Roof Inspectors', 'Pets', 'Kids Activities', 'Bike Parking', 'Art Schools', 'Souvenir Shops', 'Safe Stores', 'Mortgage Brokers', 'Tuscan', 'General Festivals', 'Flight Instruction', 'Skin Care', 'Desserts', 'Gemstones & Minerals', 'Solar Panel Cleaning', 'Laboratory Testing', 'Home Inspectors', 'Airlines', 'Jewelry Repair', 'Uzbek', 'Irrigation', 'Animal Physical Therapy', 'Taxidermy', 'Paddleboarding', 'Scavenger Hunts', 'Dance Schools', 'Child Care & Day Care', 'Muay Thai', 'Jewelry', 'Self-defense Classes', 'Museums', 'Water Purification Services', 'Piano Stores', 'Aquariums', 'Handyman', '3D Printing', 'Perfume', 'Snorkeling', 'Ultrasound Imaging Centers', 'Northern German', 'Web Design', 'Boxing', 'Minho'}\n"
     ]
    }
   ],
   "source": [
    "all_features = set(business_RDD.map(lambda x: extract_features(x)).flatMap(lambda x: x).collect())\n",
    "\n",
    "# remove useless features\n",
    "feats_to_remove = {'business_id', 'name', 'neighborhood', 'address', 'city', 'postal_code', 'hours', 'attributes'}\n",
    "all_features.difference_update(feats_to_remove)\n",
    "print(all_features)\n",
    "\n",
    "all_features = list(all_features)\n",
    "all_features.sort()"
   ]
  },
  {
   "cell_type": "code",
   "execution_count": 7,
   "id": "89e09426",
   "metadata": {},
   "outputs": [],
   "source": [
    "fhand = open('all_features.txt', 'w')\n",
    "for row in all_features:\n",
    "    fhand.writelines(row + '\\n')\n",
    "fhand.close()"
   ]
  },
  {
   "cell_type": "markdown",
   "id": "775aa0e7",
   "metadata": {},
   "source": [
    "# Get all unique values for all features for all businesses"
   ]
  },
  {
   "cell_type": "code",
   "execution_count": null,
   "id": "5b6bbc6f",
   "metadata": {},
   "outputs": [],
   "source": [
    "def get_feat_values(data_row):\n",
    "    \n",
    "    feat_value = defaultdict(set)\n",
    "    \n",
    "    for k,v in data_row.items():\n",
    "        if type(v) != dict:\n",
    "            # if it is categories, give it a value 1\n",
    "            if k == 'categories':\n",
    "                if v is not None:\n",
    "                    categories = v.split(',')\n",
    "                    for category in categories:\n",
    "                        feature_name = category.strip()\n",
    "                        feat_value[feature_name].add(1)\n",
    "            else:\n",
    "                feature_name = k.strip()\n",
    "                feat_value[feature_name].add(v)\n",
    "\n",
    "        else:\n",
    "            # if it is a dict then expand\n",
    "            for k2, v2 in v.items():\n",
    "                if v2[0] == '{' and v2[-1] == '}':\n",
    "                    # convert to dict\n",
    "                    v2 = ast.literal_eval(v2)\n",
    "\n",
    "                    for k3, v3 in v2.items():\n",
    "                        # use delimitter $ to rename feature\n",
    "                        feature_name = k + '$' + k2 + '$' + k3\n",
    "                        feature_name = feature_name.strip()\n",
    "\n",
    "                        feat_value[feature_name].add(v3)\n",
    "\n",
    "                else:\n",
    "                    # use delimitter $ to rename feature\n",
    "                    feature_name = k + '$' + k2\n",
    "                    feature_name = feature_name.strip()\n",
    "\n",
    "                    feat_value[feature_name].add(v2)\n",
    "        \n",
    "    return tuple(feat_value.items())"
   ]
  },
  {
   "cell_type": "code",
   "execution_count": null,
   "id": "e50cf213",
   "metadata": {},
   "outputs": [],
   "source": [
    "feature_vals = business_RDD.map(lambda x: get_feat_values(x)).flatMap(lambda x: x).reduceByKey(lambda x,y: x.union(y))\n",
    "\n"
   ]
  },
  {
   "cell_type": "code",
   "execution_count": null,
   "id": "574e0b48",
   "metadata": {},
   "outputs": [],
   "source": [
    "# create a dict of features to vals\n",
    "features_and_vals = {}\n",
    "for feat, val in feature_vals.collect():\n",
    "    features_and_vals[feat] = val\n",
    "\n",
    "# convert all features into a set and remove useless features and sort\n",
    "features_from_vals = set(features_and_vals.keys())\n",
    "feats_to_remove = {'business_id', 'name', 'neighborhood', 'address', 'city', 'postal_code', 'hours', 'attributes'}\n",
    "features_from_vals.difference_update(feats_to_remove)\n",
    "features_from_vals = list(features_from_vals)\n",
    "features_from_vals.sort()"
   ]
  },
  {
   "cell_type": "code",
   "execution_count": null,
   "id": "8db64c84",
   "metadata": {},
   "outputs": [],
   "source": [
    "fhand = open('features_and_vals.txt', 'w')\n",
    "for k in features_from_vals:\n",
    "    fhand.writelines(k + ' : ' + str(list(features_and_vals[k])) + '\\n')\n",
    "fhand.close()"
   ]
  },
  {
   "cell_type": "markdown",
   "id": "f8f89257",
   "metadata": {},
   "source": [
    "### After verifying all unique values for all features, there was no odd value"
   ]
  },
  {
   "cell_type": "code",
   "execution_count": null,
   "id": "dede8b2a",
   "metadata": {},
   "outputs": [],
   "source": [
    "from datetime import datetime, timedelta\n",
    "\n",
    "\n",
    "def convert_timings_to_hours(timing):\n",
    "    start_time, end_time = data.split('-')\n",
    "    start_time = datetime.strptime(start_time, '%H:%M')\n",
    "    end_time = datetime.strptime(end_time, '%H:%M')\n",
    "    time_diff = end_time - start_time\n",
    "    num_hours = time_diff.total_seconds() / 3600\n",
    "\n",
    "    if num_hours < 0:\n",
    "        num_hours = 24+num_hours\n",
    "\n",
    "    return num_hours"
   ]
  },
  {
   "cell_type": "code",
   "execution_count": null,
   "id": "6243024a",
   "metadata": {},
   "outputs": [],
   "source": [
    "print(all_features)"
   ]
  },
  {
   "cell_type": "code",
   "execution_count": null,
   "id": "e1b7017e",
   "metadata": {},
   "outputs": [],
   "source": [
    "# create a hashmap of feature to index\n",
    "features_index_map = {}\n",
    "\n",
    "for i, feature in enumerate(all_features):\n",
    "    features_index_map[feature] = i\n",
    "    "
   ]
  },
  {
   "cell_type": "code",
   "execution_count": null,
   "id": "51c76629",
   "metadata": {},
   "outputs": [],
   "source": [
    "print(features_index_map)"
   ]
  },
  {
   "cell_type": "code",
   "execution_count": null,
   "id": "584dfc54",
   "metadata": {},
   "outputs": [],
   "source": []
  }
 ],
 "metadata": {
  "kernelspec": {
   "display_name": "Python 3",
   "language": "python",
   "name": "python3"
  },
  "language_info": {
   "codemirror_mode": {
    "name": "ipython",
    "version": 3
   },
   "file_extension": ".py",
   "mimetype": "text/x-python",
   "name": "python",
   "nbconvert_exporter": "python",
   "pygments_lexer": "ipython3",
   "version": "3.6.13"
  }
 },
 "nbformat": 4,
 "nbformat_minor": 5
}
